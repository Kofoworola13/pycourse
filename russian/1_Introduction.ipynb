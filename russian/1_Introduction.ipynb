{
  "cells": [
    {
      "cell_type": "markdown",
      "metadata": {
        "collapsed": true
      },
      "source": [
        "# Увлекательное программирование на Python\n",
        "\n",
        "# Урок 1: Введение\n",
        "\n",
        "Здравствуйте, и добро пожаловать в курс *Увлекательное программирование на Python*!\n",
        "\n",
        "В этом курсе вы изучите основы компьютерного программирования на одном из самых популярных и мощных языков --- [Python](https://www.python.org/). Мы постараемся сделать этот опыт приятным, используя в качестве примеров не только вычисления, но и красивые визуальные рисунки из области компьютерного генеративного искусства. Несмотря на то, что в этом курсе мы будем решать относительно простые задачи, Python как язык программирования является очень мощным и может использоваться в самых разных областях, от Data Scince и AI до разработки веб-сайтов.\n",
        "\n",
        "Документ, который вы сейчас читаете, называется **Notebook** (точнее, *Jupyter Notebook*). Он содержит ячейки --- **cells**, некоторые из них являются текстовыми ячейками (они называются **Markdown** в раскрывающемся списке вверху, поскольку они могут содержать элементы форматирования в так называемом формате Markdown), а некоторые являются **исполняемым кодом**. Чтобы выполнить код, выберите ячейку и нажмите кнопку **RUN** в верхней панели инструментов, или нажмите сочетание клавиш **Shift-Enter**.\n",
        "\n",
        "Попробуйте выполнить следующую ячейку, которая содержит код для вычисления количества часов в году:"
      ]
    },
    {
      "cell_type": "code",
      "execution_count": 1,
      "metadata": {
        "trusted": true
      },
      "outputs": [
        {
          "data": {
            "text/plain": [
              "8760"
            ]
          },
          "execution_count": 1,
          "metadata": {},
          "output_type": "execute_result"
        }
      ],
      "source": [
        "365*24"
      ]
    },
    {
      "cell_type": "markdown",
      "metadata": {},
      "source": [
        "Как только вы выполните код, вы увидите результат сразу за ячейкой. Иногда ещё до выполнения ячейки вы видите результат предыдущего выполнения, поскольку эти результаты сохраняются вместе с документом. Порядок, в котором вы выполняете ячейки, важен, поскольку, если вы вычисляете какой-то результат в одной ячейке, то он может позже использоваться и в других. Большинство записных книжек делаются таким образом, что вы сможете без проблем выполнять все ячейки по порядку (сверху вниз), однако отступление от этого порядка может быть чревато ошибками.\n",
        "\n",
        "Вы можете добавлять новые ячейки, используя кнопку **+** вверху, а также редактировать уже существующие. **Если вы не можете редактировать документ** - это означает, что вы смотрите на [оригинальную коллекцию записных книжек на GitHub](http://github.com/shwars/pycourse). \n",
        "\n",
        "Вам нужно получить свою собственную редактируемую копию книжек одним из следующих способов:\n",
        "* Открыв репозиторий в [Visual Studio Codespaces](http://aka.ms/codespaces) (*для этого требуется подписка Microsoft Azure*) или в [GitHub Codespaces]()\n",
        "*  а не на свою собственную копию, и вам следует клонировать --- **CLONE** коллекцию, чтобы получить собственную редактируемую копию.\n",
        "\n",
        "В качестве первого упражнения напишите код в пустой ячейке ниже, чтобы вычислить количество минут в году. Как только вы закончите - нажмите **RUN** или **Shift-Enter**, чтобы выполнить ваш код и увидеть результат:"
      ]
    },
    {
      "cell_type": "markdown",
      "metadata": {},
      "source": [
        "### Простейшая программа\n",
        "\n",
        "Как видите, самый простой код на Python - это просто арифметическое выражение, которое вычисляется и печатается на экране. В общем случае **программа представляет собой серию из нескольких команд**, называемых **операторами**. Например, один из операторов называется `print`, и его можно использовать для печати чего-либо. Когда вы изучаете программирование, обычно вы начинаете с написания программы, которая выводит сообщение *Hello, world!*, эта программа на Python выглядит следующим образом:"
      ]
    },
    {
      "cell_type": "code",
      "execution_count": null,
      "metadata": {
        "trusted": true
      },
      "outputs": [],
      "source": []
    },
    {
      "cell_type": "code",
      "execution_count": 2,
      "metadata": {
        "trusted": true
      },
      "outputs": [
        {
          "name": "stdout",
          "output_type": "stream",
          "text": [
            "Hello, world!\n"
          ]
        }
      ],
      "source": [
        "print(\"Hello, world!\")"
      ]
    },
    {
      "cell_type": "markdown",
      "metadata": {},
      "source": [
        "В нашем случае это на самом деле не программа, а часть ноутбука. Однако вы можете написать отдельную программу на Python, поместив код в текстовый файл с расширением `.py`. Например, если вы создаете файл с именем `hello.py`, содержащий строку выше с командой` print`, вы можете запустить программу, используя следующую команду, и увидеть сообщение на экране:\n",
        "`` `sh\n",
        "python hello.py\n",
        "`` ''\n",
        "\n",
        "<img src=\"../images/pythonhelloconsole.gif\"/>\n",
        "\n",
        "Чтобы эта команда работала, на вашем компьютере должен быть установлен Python, и вы должны иметь возможность использовать *интерфейс командной строки*, что довольно сложно. Так что пока не беспокойтесь об этом - просто имейте в виду, что Python - это не игрушечный язык, на котором вы можете программировать только маленькие *ячейки*, а скорее полнофункциональный язык программирования, на котором вы можете писать практически все, что угодно. И многие приложения, включая веб-сайты или игры, были бы написаны немного по-другому, используя какую-то «среду разработки», а не ноутбук. Однако сам язык Python всегда один и тот же, и это именно то, что мы будем изучать."
      ]
    },
    {
      "cell_type": "markdown",
      "metadata": {},
      "source": [
        "### Переменные\n",
        "\n",
        "Как и в математике, вы можете использовать *имена*, чтобы связать их с некоторыми данными. Например, определить `seconds_in_a_day` равным количеству секунд за один день, а затем использовать это значение в своих вычислениях:"
      ]
    },
    {
      "cell_type": "code",
      "execution_count": null,
      "metadata": {
        "trusted": true
      },
      "outputs": [],
      "source": [
        "seconds_in_a_day = 24*60*60\n",
        "print('Seconds in one year: ',seconds_in_a_day*365)\n",
        "print('One million seconds in years:',1000000/seconds_in_a_day)"
      ]
    },
    {
      "cell_type": "markdown",
      "metadata": {},
      "source": [
        "Эти фиксированные значения называются **переменными**, и вы можете подумать, что переменная является своего рода корзиной, в которой могут храниться **значения** различных видов (называемые **типами**). Самые используемые типы:\n",
        " * Integer (Целочисленные значения): 1,2,13, ...\n",
        " * Real (Вещественные значения): 3.1415, 0.5\n",
        " * Strings (Строки): \"привет\"\n",
        " \n",
        "Например, мы можем использовать переменную для хранения нашего имени и дополнить пример * hello-world *:"
      ]
    },
    {
      "cell_type": "code",
      "execution_count": null,
      "metadata": {
        "trusted": true
      },
      "outputs": [],
      "source": [
        "name = \"Peter\"\n",
        "print(\"Hello, \"+name)"
      ]
    },
    {
      "cell_type": "markdown",
      "metadata": {},
      "source": [
        "Здесь мы используем операцию `+`, чтобы сложить две строки вместе. Сложение строк - это не то же самое, что сложение чисел, как вы можете видеть из приведенного ниже примера:"
      ]
    },
    {
      "cell_type": "code",
      "execution_count": 3,
      "metadata": {
        "trusted": true
      },
      "outputs": [
        {
          "name": "stdout",
          "output_type": "stream",
          "text": [
            "137\n",
            "20\n"
          ]
        }
      ],
      "source": [
        "print(\"13\"+\"7\")\n",
        "print(13+7)"
      ]
    },
    {
      "cell_type": "markdown",
      "metadata": {},
      "source": [
        "Сложение:\n",
        " * Когда вы пишете `\"13\"` или `'13'` - это строка из двух символов: `1` и `3`\n",
        " * Когда вы пишете 13 - это число 13\n",
        " * Когда вы пишете `\" Paul \"` или `'Paul'` - это строка из 4 символов\n",
        " * Когда вы пишете `Paul` - это означает переменную с именем *Paul*, и она будет заменена значением переменной\n",
        " \n",
        "Попробуйте угадать, что происходит, когда вы хотите добавить строку «13» к числу 1. Или наоборот. Давайте проведем пару экспериментов:"
      ]
    },
    {
      "cell_type": "code",
      "execution_count": 8,
      "metadata": {
        "trusted": true
      },
      "outputs": [
        {
          "ename": "TypeError",
          "evalue": "unsupported operand type(s) for +: 'int' and 'str'",
          "output_type": "error",
          "traceback": [
            "\u001b[0;31m---------------------------------------------------------------------------\u001b[0m",
            "\u001b[0;31mTypeError\u001b[0m                                 Traceback (most recent call last)",
            "\u001b[0;32m<ipython-input-8-cb4b33bbb86e>\u001b[0m in \u001b[0;36m<module>\u001b[0;34m\u001b[0m\n\u001b[0;32m----> 1\u001b[0;31m \u001b[0;36m1\u001b[0m\u001b[0;34m+\u001b[0m\u001b[0;34m\"13\"\u001b[0m\u001b[0;34m\u001b[0m\u001b[0m\n\u001b[0m",
            "\u001b[0;31mTypeError\u001b[0m: unsupported operand type(s) for +: 'int' and 'str'"
          ]
        }
      ],
      "source": [
        "1+\"13\""
      ]
    },
    {
      "cell_type": "markdown",
      "metadata": {},
      "source": [
        "Вы видите пример ** сообщения об ошибке **. Это сообщение указывает на точный фрагмент кода, который вызывает ошибку, а также дает объяснение. Например, эта ошибка говорит нам, что операция `+` не поддерживает операнды типов `int` и` str`, т.е. она не знает, как добавлять строки и числа вместе, потому что эта операция не имеет смысла."
      ]
    },
    {
      "cell_type": "markdown",
      "metadata": {},
      "source": [
        "### Модули и библиотеки\n",
        "\n",
        "Базовый язык программирования Python содержит основные команды, такие как печать, выполнение вычислений и т. Д. Для более сложных вещей, таких как загрузка файлов из Интернета или создание приложений Windows, существуют специальные ** библиотеки ** (их также называют ** модули ** или ** пакеты **), расширяющие язык.\n",
        "\n",
        "Например, модуль `math` содержит много математических функций. Чтобы использовать этот модуль, нам нужно ** импортировать ** его в нашу программу, но сказать `import math`:"
      ]
    },
    {
      "cell_type": "code",
      "execution_count": 9,
      "metadata": {
        "trusted": true
      },
      "outputs": [
        {
          "data": {
            "text/plain": [
              "1.0"
            ]
          },
          "execution_count": 9,
          "metadata": {},
          "output_type": "execute_result"
        }
      ],
      "source": [
        "import math\n",
        "math.sin(math.pi/2)"
      ]
    },
    {
      "cell_type": "markdown",
      "metadata": {},
      "source": [
        "Некоторые модули (например, `math`) встроены в любой дистрибутив Python, другие распространяются через централизованное хранилище пакетов [PyPI] (http://pypi.org). Вы можете установить любой пакет из этого репозитория, используя специальную команду операционной системы `pip`. Например, библиотека для графики черепах, которую мы увидим в следующем разделе, предварительно установлена ​​в нашей записной книжке, но если вы хотите использовать ее где-то еще, вам понадобится следующая команда для ее установки:\n",
        "```python\n",
        "!pip install jturtle\n",
        "```\n",
        "Восклицательный знак `!` В начале команды означает, что это не команда Python, а команда для операционной системы. Если вы не понимаете этот материал о библиотеках - не волнуйтесь, это может быть полезным позже.\n",
        "\n",
        "> Если вы запускаете код через Google Colab - выполните следующую ячейку:"
      ]
    },
    {
      "cell_type": "code",
      "execution_count": null,
      "metadata": {},
      "outputs": [],
      "source": [
        "!pip install jturtle"
      ]
    },
    {
      "cell_type": "markdown",
      "metadata": {},
      "source": [
        "### Черепашья Графика\n",
        "\n",
        "Библиотека, которую мы только что установили, позволяет нам использовать несколько простых команд рисования - так называемая ** черепашья графика **. Эти команды управляют воображаемой * черепахой *, которая может перемещаться по экрану, поворачиваться и т.д., Оставляя след позади. Например, если я хочу нарисовать треугольник, я могу использовать следующие команды:"
      ]
    },
    {
      "cell_type": "code",
      "execution_count": 2,
      "metadata": {
        "trusted": true
      },
      "outputs": [
        {
          "data": {
            "image/png": "[encoded data removed]",
            "image/svg+xml": [
              "<?xml version=\"1.0\" encoding=\"utf-8\" standalone=\"no\"?>\n",
              "<!DOCTYPE svg PUBLIC \"-//W3C//DTD SVG 1.1//EN\"\n",
              "  \"http://www.w3.org/Graphics/SVG/1.1/DTD/svg11.dtd\">\n",
              "<!-- Created with matplotlib (https://matplotlib.org/) -->\n",
              "<svg height=\"231.84pt\" version=\"1.1\" viewBox=\"0 0 231.84 231.84\" width=\"231.84pt\" xmlns=\"http://www.w3.org/2000/svg\" xmlns:xlink=\"http://www.w3.org/1999/xlink\">\n",
              " <defs>\n",
              "  <style type=\"text/css\">\n",
              "*{stroke-linecap:butt;stroke-linejoin:round;}\n",
              "  </style>\n",
              " </defs>\n",
              " <g id=\"figure_1\">\n",
              "  <g id=\"patch_1\">\n",
              "   <path d=\"M 0 231.84 \n",
              "L 231.84 231.84 \n",
              "L 231.84 0 \n",
              "L 0 0 \n",
              "z\n",
              "\" style=\"fill:none;\"/>\n",
              "  </g>\n",
              "  <g id=\"axes_1\">\n",
              "   <g id=\"line2d_1\">\n",
              "    <path clip-path=\"url(#p36632a25a2)\" d=\"M 25.32 206.52 \n",
              "L 25.32 25.32 \n",
              "\" style=\"fill:none;stroke:#000000;stroke-linecap:square;\"/>\n",
              "   </g>\n",
              "   <g id=\"line2d_2\">\n",
              "    <path clip-path=\"url(#p36632a25a2)\" d=\"M 25.32 25.32 \n",
              "L 182.243803 115.92 \n",
              "\" style=\"fill:none;stroke:#000000;stroke-linecap:square;\"/>\n",
              "   </g>\n",
              "   <g id=\"line2d_3\">\n",
              "    <path clip-path=\"url(#p36632a25a2)\" d=\"M 182.243803 115.92 \n",
              "L 25.32 206.52 \n",
              "\" style=\"fill:none;stroke:#000000;stroke-linecap:square;\"/>\n",
              "   </g>\n",
              "  </g>\n",
              " </g>\n",
              " <defs>\n",
              "  <clipPath id=\"p36632a25a2\">\n",
              "   <rect height=\"217.44\" width=\"217.44\" x=\"7.2\" y=\"7.2\"/>\n",
              "  </clipPath>\n",
              " </defs>\n",
              "</svg>\n"
            ],
            "text/plain": [
              "<Figure size 432x288 with 1 Axes>"
            ]
          },
          "metadata": {
            "needs_background": "light"
          },
          "output_type": "display_data"
        }
      ],
      "source": [
        "import jturtle as turtle\n",
        "turtle.forward(100)\n",
        "turtle.right(120)\n",
        "turtle.forward(100)\n",
        "turtle.right(120)\n",
        "turtle.forward(100)\n",
        "turtle.right(120)\n",
        "turtle.done()"
      ]
    },
    {
      "cell_type": "markdown",
      "metadata": {},
      "source": [
        "Прежде всего, команда `import jturtle as turtle` импортирует модуль и меняет имя на` turtle` - это имя звучит немного лучше. Если вы хотите сэкономить на наборе текста, вы можете сказать `import jturtle as T` и использовать` T` вместо `turtle`.\n",
        "\n",
        "Команды типа `turtle.forward` говорят черепахе что-то делать. Наиболее важные команды:\n",
        " * `turtle.forward (n)` - переместить на `n` единиц вперед\n",
        " * `turtle.backward (n)` - переместить на `n` единиц назад\n",
        " * `turtle.left (n)` и `turtle.right (n)` - повернуть на `n` градусов влево или вправо\n",
        " * `turtle.penup ()` и `turtle.pendown ()` позволяют контролировать, оставляет ли черепаха след или нет. Вам нужно использовать эти команды, если вы хотите нарисовать несколько фигур, не связанных друг с другом\n",
        " * `turtle.done ()` сообщает черепахе, что рисунок окончен, и он должен отображаться на экране\n",
        " \n",
        " Если вы хотите увидеть, как рисунок создавался пошагово, вы можете использовать `turtle.done (step_by_step = True)` или просто `turtle.done (True)`:"
      ]
    },
    {
      "cell_type": "code",
      "execution_count": 7,
      "metadata": {
        "trusted": true
      },
      "outputs": [
        {
          "name": "stdout",
          "output_type": "stream",
          "text": [
            "[('L', 0, 6.123233995736766e-15, 0, 100.0, 1, 'black'), ('L', 6.123233995736766e-15, 100.0, 100.0, 100.0, 1, 'black'), ('L', 100.0, 100.0, 100.0, 0.0, 1, 'black'), ('L', 100.0, 0.0, 0.0, -1.2246467991473532e-14, 1, 'black')]\n"
          ]
        },
        {
          "data": {
            "image/png": "[encoded data removed]",
            "text/plain": [
              "<Figure size 432x288 with 4 Axes>"
            ]
          },
          "metadata": {
            "needs_background": "light"
          },
          "output_type": "display_data"
        }
      ],
      "source": [
        "turtle.forward(100)\n",
        "turtle.right(90)\n",
        "turtle.forward(100)\n",
        "turtle.right(90)\n",
        "turtle.forward(100)\n",
        "turtle.right(90)\n",
        "turtle.forward(100)\n",
        "turtle.right(90)\n",
        "print(turtle.ensureTurtle().commands)\n",
        "turtle.done(True)"
      ]
    },
    {
      "cell_type": "markdown",
      "metadata": {
        "trusted": false
      },
      "source": [
        "Здесь мы видим, что черепаха сначала поднялась на 100 пунктов, затем повернула направо, прошла еще на 100 пунктов и так далее. Повторяя эти действия 4 раза, мы получаем квадрат.\n",
        "\n",
        "Это были очень простые рисунки, но, как мы увидим позже, компьютеры отлично умеют повторять и составлять простые шаги, чтобы получить более сложные результаты. Мы увидим несколько примеров очень красивых рисунков, созданных с использованием того же подхода, что и графика черепах.\n",
        "\n",
        "Here, we can see that the turtle first moved up 100 points, then turned right, went forward for another 100 points, and so on. Repeating those actions 4 times we end up with a square.\n",
        "\n",
        "Those were very simple drawings, but as we will see later --- computers are very good at repeating and composing together simple steps to get more complex results. We will see some examples of very beautiful drawings created using the same approach of turtle graphics."
      ]
    },
    {
      "cell_type": "markdown",
      "metadata": {},
      "source": [
        "### Упражнение\n",
        "\n",
        "Прежде чем перейти к следующей главе, мы хотим, чтобы вы выполнили пару простых упражнений.\n",
        "\n",
        "1. Предположим, вы положили определенную сумму денег на банковский депозит (скажем, 1000 рублей). Эта сумма увеличивается со скоростью 2,5% в год. Рассчитайте сумму, которую вы будете иметь через 1, 2 и 3 года.\n",
        "2. Чтобы попрактиковаться в графике черепах, нарисуйте простой дом, как показано ниже. Обратите внимание, что для того, чтобы переместить черепаху без следа, вам необходимо выполнить команду `turtle.penup ()`.\n",
        "! [Простой дом] (images / house.png)"
      ]
    },
    {
      "cell_type": "code",
      "execution_count": null,
      "metadata": {
        "trusted": true
      },
      "outputs": [],
      "source": []
    }
  ],
  "metadata": {
    "kernelspec": {
      "display_name": "Python 3.7.3 64-bit",
      "language": "python",
      "name": "python37364bit6a29fc4a18164452b4e57b09a0c467e1"
    },
    "language_info": {
      "codemirror_mode": {
        "name": "ipython",
        "version": 3
      },
      "file_extension": ".py",
      "mimetype": "text/x-python",
      "name": "python",
      "nbconvert_exporter": "python",
      "pygments_lexer": "ipython3",
      "version": "3.7.3-final"
    }
  },
  "nbformat": 4,
  "nbformat_minor": 2
}
