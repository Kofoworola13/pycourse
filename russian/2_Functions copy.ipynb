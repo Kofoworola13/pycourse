{
  "cells": [
    {
      "cell_type": "markdown",
      "metadata": {
        "collapsed": true
      },
      "source": [
        "# Введение в программирование на Python\n",
        "\n",
        "# Блок 2: Функции\n",
        "\n",
        "Давайте начнем с выполнения упражнения предыдущего урока: рисование дома. Прежде всего, давайте импортируем модуль Turtle:"
      ]
    },
    {
      "cell_type": "code",
      "execution_count": null,
      "metadata": {},
      "outputs": [],
      "source": [
        "# Выполните эту ячейку, если вы запускаете код из Google Colab\n",
        "# Если вы работаете на локальном компьютере, где jturtle уже установлен - пропустите.\n",
        "!pip install jturtle"
      ]
    },
    {
      "cell_type": "code",
      "execution_count": 1,
      "metadata": {
        "trusted": true
      },
      "outputs": [],
      "source": [
        "import jturtle as turtle"
      ]
    },
    {
      "cell_type": "markdown",
      "metadata": {},
      "source": [
        "Чтобы упростить написание, давайте использовать переменную `size` для фиксации размера дома. Первое, что нам нужно сделать, это нарисовать квадрат:"
      ]
    },
    {
      "cell_type": "code",
      "execution_count": 2,
      "metadata": {
        "scrolled": true,
        "trusted": true
      },
      "outputs": [
        {
          "data": {
            "image/png": "[encoded data removed]",
            "text/plain": [
              "<Figure size 432x288 with 1 Axes>"
            ]
          },
          "metadata": {
            "needs_background": "light"
          },
          "output_type": "display_data"
        }
      ],
      "source": [
        "size=120\n",
        "turtle.forward(size)\n",
        "turtle.right(90)\n",
        "turtle.forward(size)\n",
        "turtle.right(90)\n",
        "turtle.forward(size)\n",
        "turtle.right(90)\n",
        "turtle.forward(size)\n",
        "turtle.right(90)\n",
        "turtle.done()"
      ]
    },
    {
      "cell_type": "markdown",
      "metadata": {},
      "source": [
        "Теперь, нарисовав главный квадрат, нарисуем крышу. После выполненного кода черепаха находится в нижнем левом углу квадрата, поэтому нам нужно подняться вверх, а затем нарисовать треугольник:"
      ]
    },
    {
      "cell_type": "code",
      "execution_count": 3,
      "metadata": {
        "trusted": true
      },
      "outputs": [
        {
          "data": {
            "image/png": "[encoded data removed]",
            "text/plain": [
              "<Figure size 432x288 with 1 Axes>"
            ]
          },
          "metadata": {
            "needs_background": "light"
          },
          "output_type": "display_data"
        }
      ],
      "source": [
        "turtle.forward(size)\n",
        "turtle.right(90)\n",
        "turtle.forward(size)\n",
        "turtle.right(90)\n",
        "turtle.forward(size)\n",
        "turtle.right(90)\n",
        "turtle.forward(size)\n",
        "turtle.right(90)\n",
        "\n",
        "turtle.forward(size)\n",
        "turtle.right(30)\n",
        "turtle.forward(size)\n",
        "turtle.right(120)\n",
        "turtle.forward(size)\n",
        "turtle.right(120)\n",
        "turtle.done()"
      ]
    },
    {
      "cell_type": "code",
      "execution_count": 4,
      "metadata": {},
      "outputs": [
        {
          "ename": "SyntaxError",
          "evalue": "invalid syntax (<ipython-input-4-ca039800a614>, line 1)",
          "output_type": "error",
          "traceback": [
            "\u001b[0;36m  File \u001b[0;32m\"<ipython-input-4-ca039800a614>\"\u001b[0;36m, line \u001b[0;32m1\u001b[0m\n\u001b[0;31m    Теперь, чтобы нарисовать окно, нам нужно поднять ручку вверх (чтобы остановить рисование), переместиться на 2/3 вниз и на 1/3 влево и нарисовать меньший квадрат:\u001b[0m\n\u001b[0m                           ^\u001b[0m\n\u001b[0;31mSyntaxError\u001b[0m\u001b[0;31m:\u001b[0m invalid syntax\n"
          ]
        }
      ],
      "source": [
        "Теперь, чтобы нарисовать окно, нам нужно поднять ручку вверх (чтобы остановить рисование), переместиться на 2/3 вниз и на 1/3 влево и нарисовать меньший квадрат:"
      ]
    },
    {
      "cell_type": "code",
      "execution_count": 4,
      "metadata": {
        "trusted": true
      },
      "outputs": [
        {
          "data": {
            "image/png": "[encoded data removed]",
            "text/plain": [
              "<Figure size 432x288 with 1 Axes>"
            ]
          },
          "metadata": {
            "needs_background": "light"
          },
          "output_type": "display_data"
        }
      ],
      "source": [
        "# Draw a square\n",
        "turtle.forward(size)\n",
        "turtle.right(90)\n",
        "turtle.forward(size)\n",
        "turtle.right(90)\n",
        "turtle.forward(size)\n",
        "turtle.right(90)\n",
        "turtle.forward(size)\n",
        "turtle.right(90)\n",
        "\n",
        "# Draw the roof\n",
        "turtle.forward(size)\n",
        "turtle.right(30)\n",
        "turtle.forward(size)\n",
        "turtle.right(120)\n",
        "turtle.forward(size)\n",
        "turtle.right(30)\n",
        "\n",
        "# Position pen inside\n",
        "turtle.penup()\n",
        "turtle.forward(2*size/3)\n",
        "turtle.right(90)\n",
        "turtle.forward(size/3)\n",
        "turtle.pendown()\n",
        "\n",
        "# Draw a window\n",
        "turtle.forward(size/3)\n",
        "turtle.right(90)\n",
        "turtle.forward(size/3)\n",
        "turtle.right(90)\n",
        "turtle.forward(size/3)\n",
        "turtle.right(90)\n",
        "turtle.forward(size/3)\n",
        "turtle.right(90)\n",
        "\n",
        "turtle.done()"
      ]
    },
    {
      "cell_type": "markdown",
      "metadata": {},
      "source": [
        "Вы можете заметить, что, поскольку программа становится довольно большой, ее становится все труднее понять. Чтобы упростить понимание программы, нужно использовать ** комментарии **. Комментарии - это фрагменты текста, которые могут быть встроены в программу и которые игнорируются при выполнении. Все, что начинается со знака `#` и до конца строки, считается комментарием и отбрасывается.\n",
        "\n",
        "Вы можете использовать комментарии, чтобы предоставить некоторое описание того, что происходит, чтобы помочь другим программистам лучше понять ваш код. Кроме того, если вы хотите по какой-то причине временно исключить фрагмент кода из вашей программы, вы можете использовать комментарии, чтобы * закомментировать его *.\n",
        "\n",
        "В приведенной выше программе мы предоставили несколько комментариев, которые помогут нам понять, что делает каждая часть программы. Кроме того, мы использовали пустые строки для создания некоторой логической группировки кода. Это также помогает понять программу. Помните, что вы можете использовать любое количество пустых строк в любом месте между строками программы.\n",
        "\n",
        "Однако только комментарии не помогут нам бороться со сложностью. Еще один чрезвычайно полезный метод называется ** функции **."
      ]
    },
    {
      "cell_type": "markdown",
      "metadata": {},
      "source": [
        "## Введение в функции\n",
        "\n",
        "В этом примере нам нужно нарисовать квадраты дважды - сначала, чтобы сделать контур дома, а затем нарисовать окно внутри. На самом деле, рисование квадрата (а также других геометрических фигур, таких как треугольники или круги) можно считать довольно распространенной задачей, из которой можно сделать более сложные рисунки. Вы можете утверждать, что было бы разумно включить `квадрат` в качестве одной из встроенных команд черепахи, но включить все невозможно... было бы более разумно разрешить создание собственных команд из более простых.\n",
        "\n",
        "В нашем случае мы можем ** создать нашу собственную команду **, чтобы нарисовать квадрат. Фактически, любой фрагмент кода Python, имеющий некоторое логическое значение, может быть сгруппирован в ** функцию **. Функции определяются с помощью специального ключевого слова `def`. Взгляните на функцию для рисования квадрата:"
      ]
    },
    {
      "cell_type": "code",
      "execution_count": 19,
      "metadata": {
        "trusted": true
      },
      "outputs": [],
      "source": [
        "def square(x):\n",
        "    turtle.forward(x)\n",
        "    turtle.right(90)\n",
        "    turtle.forward(x)\n",
        "    turtle.right(90)\n",
        "    turtle.forward(x)\n",
        "    turtle.right(90)\n",
        "    turtle.forward(x)\n",
        "    turtle.right(90)"
      ]
    },
    {
      "cell_type": "markdown",
      "metadata": {},
      "source": [
        "Когда мы запускаем этот код, на экране ничего не рисуется - мы просто указываем список команд, которые составляют функцию. Однако, как только ячейка выше была выполнена, Python знакомится с новой командой `square`. Чтобы нарисовать квадрат, нам нужно ** вызвать ** эту функцию:"
      ]
    },
    {
      "cell_type": "code",
      "execution_count": 21,
      "metadata": {
        "trusted": true
      },
      "outputs": [
        {
          "data": {
            "image/png": "[encoded data removed]",
            "text/plain": [
              "<Figure size 432x288 with 1 Axes>"
            ]
          },
          "metadata": {
            "needs_background": "light"
          },
          "output_type": "display_data"
        }
      ],
      "source": [
        "square(100)\n",
        "turtle.done()"
      ]
    },
    {
      "cell_type": "markdown",
      "metadata": {},
      "source": [
        "Поскольку нам нужно рисовать квадраты разных размеров, эта функция имеет один ** аргумент ** или ** параметр **. Он обозначается `(x)` после имени функции и фактически является разновидностью переменной, которая принимает значение, передаваемое функции во время вызова. В приведенном выше случае мы вызвали функцию `square (100)`, поэтому в теле переменной функции `x` будет равно 100. Мы можем использовать любое выражение вместо параметра, например ` square (size /) 2 + 10) ` будет вполне допустимым вызовом. Выражение `size / 2 + 10` будет вычислено, а результат связан с параметром `x`. При определении функции вы всегда используете некоторые имена вместо параметров, которые будут действовать как «заполнители» - вы не можете использовать выражения.\n",
        "\n",
        "Теперь, когда мы определили функцию `квадрат`, мы можем упростить рисование дома, вызывая функцию каждый раз, когда нам нужно нарисовать квадрат:"
      ]
    },
    {
      "cell_type": "code",
      "execution_count": 24,
      "metadata": {
        "trusted": true
      },
      "outputs": [
        {
          "data": {
            "image/png": "[encoded data removed]",
            "text/plain": [
              "<Figure size 432x288 with 1 Axes>"
            ]
          },
          "metadata": {
            "needs_background": "light"
          },
          "output_type": "display_data"
        }
      ],
      "source": [
        "square(size)\n",
        "\n",
        "turtle.forward(size)\n",
        "turtle.right(30)\n",
        "turtle.forward(size)\n",
        "turtle.right(120)\n",
        "turtle.forward(size)\n",
        "turtle.right(30)\n",
        "\n",
        "turtle.penup()\n",
        "turtle.forward(2*size/3)\n",
        "turtle.right(90)\n",
        "turtle.forward(size/3)\n",
        "turtle.pendown()\n",
        "\n",
        "square(size/3)\n",
        "\n",
        "turtle.done()"
      ]
    },
    {
      "cell_type": "markdown",
      "metadata": {},
      "source": [
        "Внутри функций мы можем вызывать другие функции. В качестве простого упражнения, пожалуйста, возьмите код, который рисует дом выше и превратите его в функцию с одним параметром - размером дома. Поместите свой код в ячейку ниже и проверьте его:"
      ]
    },
    {
      "cell_type": "code",
      "execution_count": null,
      "metadata": {
        "trusted": true
      },
      "outputs": [],
      "source": []
    },
    {
      "cell_type": "markdown",
      "metadata": {},
      "source": []
    },
    {
      "cell_type": "markdown",
      "metadata": {},
      "source": [
        "## Блоки и отступы\n",
        "\n",
        "Возможно, вы заметили, что при определении функции `square` мы отступили все строки внутри функции на несколько пробелов, например:\n",
        "\n",
        "```python\n",
        "def square(x):\n",
        "    turtle.forward(x)\n",
        "    turtle.right(90)\n",
        "    ...\n",
        "```\n",
        "Этот отступ важен, потому что он сообщает Python, где начинается и заканчивается тело функции и где начинается следующая часть программы. Например, если мы хотим определить две функции, мы сделаем отступ кода следующим образом:\n",
        "\n",
        "```python\n",
        "def square(x):\n",
        "    turtle.forward(x)\n",
        "    turtle.right(90)\n",
        "    ...\n",
        "\n",
        "def triangle(x):\n",
        "    turtle.forward(x)\n",
        "    turtle.right(120)\n",
        "    ...\n",
        "    \n",
        "square(50)\n",
        "triangle(50)\n",
        "```\n",
        "\n",
        "Отрезанный фрагмент кода называется **блоком**, поэтому вы можете сказать, что определение функции состоит из оператора `def`, за которым следует блок кода. Мы увидим эту концепцию и позже, когда будем иметь дело с циклами и условными операторами."
      ]
    },
    {
      "cell_type": "markdown",
      "metadata": {},
      "source": [
        "## Функции, которые возвращают значение\n",
        "\n",
        "В некоторых случаях функции просто что-то делают, например, рисуют квадрат. Однако иногда нам нужны функции, которые что-то вычисляют и возвращают результат. Мы говорим, что эти функции ** возвращают ** значение.\n",
        "\n",
        "Рассмотрим первое упражнение из предыдущего урока, где вам нужно было рассчитать сумму денег на банковском депозите с учетом процентной ставки 2,5%. Мы можем написать функцию, которая подсчитает, сколько денег мы получим через год:"
      ]
    },
    {
      "cell_type": "code",
      "execution_count": 25,
      "metadata": {
        "trusted": true
      },
      "outputs": [],
      "source": [
        "def interest(amount, rate):\n",
        "    x = amount * (1+rate/100)\n",
        "    return x"
      ]
    },
    {
      "cell_type": "markdown",
      "metadata": {},
      "source": [
        "В этой функции `amount` - это количество денег, которое у нас есть на данный момент, а `rate` - годовая процентная ставка в процентах. Мы вычисляем сумму через год и обозначаем ее как `x`, а затем возвращаем это значение, используя оператор` return`.\n",
        "\n",
        "Для вызова этой функции мы можем использовать следующий синтаксис:"
      ]
    },
    {
      "cell_type": "code",
      "execution_count": 26,
      "metadata": {
        "trusted": true
      },
      "outputs": [
        {
          "name": "stdout",
          "output_type": "stream",
          "text": [
            "102.49999999999999\n"
          ]
        }
      ],
      "source": [
        "result = interest(100, 2.5)\n",
        "print(result)"
      ]
    },
    {
      "cell_type": "markdown",
      "metadata": {},
      "source": [
        "Мы также можем напрямую использовать функцию `interest` в любом выражении, например, чтобы просто напечатать сумму за один год, мы можем написать"
      ]
    },
    {
      "cell_type": "code",
      "execution_count": 27,
      "metadata": {
        "trusted": true
      },
      "outputs": [
        {
          "data": {
            "text/plain": [
              "102.49999999999999"
            ]
          },
          "execution_count": 27,
          "metadata": {},
          "output_type": "execute_result"
        }
      ],
      "source": [
        "interest(100, 2.5)"
      ]
    },
    {
      "cell_type": "markdown",
      "metadata": {},
      "source": [
        "И рассчитать полученную сумму за два года:"
      ]
    },
    {
      "cell_type": "code",
      "execution_count": 28,
      "metadata": {
        "trusted": true
      },
      "outputs": [
        {
          "data": {
            "text/plain": [
              "105.06249999999997"
            ]
          },
          "execution_count": 28,
          "metadata": {},
          "output_type": "execute_result"
        }
      ],
      "source": [
        "interest(interest(100, 2.5),2.5)"
      ]
    },
    {
      "cell_type": "markdown",
      "metadata": {},
      "source": [
        "## Локальные и глобальные переменные\n",
        "\n",
        "В нашей функции мы использовали переменную `x` для выполнения вычислений. Такие переменные, которые используются только внутри функций, называются** локальными переменными**, и они существуют только внутри функции. Если мы попытаемся напечатать значение `x` после вызова функции `Interest`, мы получим ошибку, что такой переменной не существует.\n",
        "\n",
        "Переменная, определенная вне функции, называется **глобальной переменной**, и все такие переменные также доступны изнутри функции. Например, если процентная ставка более или менее одинакова во всех наших расчетах, мы можем выбрать ее определение как глобальную переменную, чтобы не передавать ее каждый раз:"
      ]
    },
    {
      "cell_type": "code",
      "execution_count": 30,
      "metadata": {
        "trusted": true
      },
      "outputs": [
        {
          "name": "stdout",
          "output_type": "stream",
          "text": [
            "107.68906249999996\n"
          ]
        }
      ],
      "source": [
        "interest_rate = 2.5\n",
        "\n",
        "def interest(x):\n",
        "    return x * (1+interest_rate/100)\n",
        "\n",
        "print(interest(interest(interest(100))))"
      ]
    },
    {
      "cell_type": "markdown",
      "metadata": {},
      "source": [
        "## Кортежи (Пары)\n",
        "\n",
        "Предположим, мы хотим вернуть несколько значений из нашей функции, например, общую сумму на нашем банковском счете, а также накопленные проценты. Однако функции разработаны таким образом, что они могут возвращать только одно значение. К счастью, одно значение в Python может состоять из нескольких других значений. Такие комбинации из 2, 3 или любого другого числа значений называются **кортежами**.\n",
        "\n",
        "Кортежи - очень полезный способ хранения структурированных значений. Например, координата в 2D-пространстве задается двумя значениями, $ x $ и $ y $. Таким образом, вместо того, чтобы хранить их в двух разных переменных и произносить `x = 0` и` y = 10`, мы можем хранить их в кортеже:"
      ]
    },
    {
      "cell_type": "code",
      "execution_count": 31,
      "metadata": {
        "trusted": true
      },
      "outputs": [],
      "source": [
        "point = (0,10)"
      ]
    },
    {
      "cell_type": "markdown",
      "metadata": {},
      "source": [
        "Чтобы получить доступ к отдельным координатам точки, мы можем использовать обозначения `point [0]` и `point [1]`:"
      ]
    },
    {
      "cell_type": "code",
      "execution_count": null,
      "metadata": {},
      "outputs": [],
      "source": []
    },
    {
      "cell_type": "code",
      "execution_count": 1,
      "metadata": {
        "trusted": true
      },
      "outputs": [
        {
          "ename": "NameError",
          "evalue": "name 'point' is not defined",
          "output_type": "error",
          "traceback": [
            "\u001b[0;31m---------------------------------------------------------------------------\u001b[0m",
            "\u001b[0;31mNameError\u001b[0m                                 Traceback (most recent call last)",
            "\u001b[0;32m<ipython-input-1-d73237a0d325>\u001b[0m in \u001b[0;36m<module>\u001b[0;34m\u001b[0m\n\u001b[0;32m----> 1\u001b[0;31m \u001b[0mprint\u001b[0m\u001b[0;34m(\u001b[0m\u001b[0;34m\"Наши переменные: x=\"\u001b[0m\u001b[0;34m,\u001b[0m\u001b[0mpoint\u001b[0m\u001b[0;34m[\u001b[0m\u001b[0;36m0\u001b[0m\u001b[0;34m]\u001b[0m\u001b[0;34m,\u001b[0m\u001b[0;34m', y='\u001b[0m\u001b[0;34m,\u001b[0m\u001b[0mpoint\u001b[0m\u001b[0;34m[\u001b[0m\u001b[0;36m1\u001b[0m\u001b[0;34m]\u001b[0m\u001b[0;34m)\u001b[0m\u001b[0;34m\u001b[0m\u001b[0;34m\u001b[0m\u001b[0m\n\u001b[0m",
            "\u001b[0;31mNameError\u001b[0m: name 'point' is not defined"
          ]
        }
      ],
      "source": [
        "print(\"Наши координаты\",point[0],', y=',point[1])"
      ]
    },
    {
      "cell_type": "markdown",
      "metadata": {},
      "source": [
        "Другой способ разложить кортеж на части - присвоить его паре переменных. Можно написать:"
      ]
    },
    {
      "cell_type": "code",
      "execution_count": 33,
      "metadata": {
        "trusted": true
      },
      "outputs": [
        {
          "name": "stdout",
          "output_type": "stream",
          "text": [
            "Our coordinates are: x= 0 , y= 10\n"
          ]
        }
      ],
      "source": [
        "x,y = point\n",
        "print(\"Наши координаты: x=\",x,', y=',y)"
      ]
    },
    {
      "cell_type": "markdown",
      "metadata": {},
      "source": [
        "Кстати, используя кортежи, вы можете писать назначения для нескольких переменных одновременно, напримерпример"
      ]
    },
    {
      "cell_type": "code",
      "execution_count": 34,
      "metadata": {
        "trusted": true
      },
      "outputs": [
        {
          "data": {
            "text/plain": [
              "10"
            ]
          },
          "execution_count": 34,
          "metadata": {},
          "output_type": "execute_result"
        }
      ],
      "source": [
        "x,y = 0,10\n",
        "x+y"
      ]
    },
    {
      "cell_type": "markdown",
      "metadata": {},
      "source": [
        "Возвращаясь к примеру с процентной ставкой, мы можем вернуть общую сумму и накопленные проценты, используя кортеж:ортеж:"
      ]
    },
    {
      "cell_type": "code",
      "execution_count": 35,
      "metadata": {
        "trusted": true
      },
      "outputs": [
        {
          "name": "stdout",
          "output_type": "stream",
          "text": [
            "102.5 2.5\n"
          ]
        }
      ],
      "source": [
        "def interest(x,rate):\n",
        "    acc = x*rate/100\n",
        "    return (x+acc, acc)\n",
        "\n",
        "total, acc = interest(100,2.5)\n",
        "print(total,acc)"
      ]
    },
    {
      "cell_type": "markdown",
      "metadata": {},
      "source": [
        "## Другой стиль рисования\n",
        "\n",
        "Рисовать дом с помощью команд черепахи - хорошая идея, но можно подумать об этой проблеме немного по-другому. Предположим, у вас есть квадратная бумага, и вы нарисовали дом на этой бумаге. В этом случае вам будет легко рассчитать * координаты * всех точек, и тогда вы будете знать координаты начальной и конечной точек каждой линии на чертеже. Таким образом, вместо того, чтобы давать команды в стиле черепахи для перемещения и поворота, вы можете напрямую указать координаты линий для рисования.\n",
        "\n",
        "Есть две команды turtle, которые можно использовать с координатами:\n",
        "* turtle.line ((x1, y1), (x2, y2)) --- рисует линию между указанными точками\n",
        "* turtle.point ((x, y)) - рисует точку\n",
        "\n",
        "Обратите внимание, как мы используем кортежи для передачи координат точки в функцию!\n",
        "\n",
        "Итак, при рисовании дома с использованием координат мы также определим функцию для рисования квадрата с учетом двух противоположных точек:исования квадрата с учетом двух противоположных точек:"
      ]
    },
    {
      "cell_type": "code",
      "execution_count": 5,
      "metadata": {
        "trusted": true
      },
      "outputs": [],
      "source": [
        "def square(x1,y1,x2,y2):\n",
        "    turtle.line((x1,y1),(x1,y2))\n",
        "    turtle.line((x1,y1),(x2,y1))\n",
        "    turtle.line((x2,y2),(x1,y2))\n",
        "    turtle.line((x2,y2),(x2,y1))"
      ]
    },
    {
      "cell_type": "markdown",
      "metadata": {},
      "source": [
        "Мы можем нарисовать дом, используя эту функциюнкции"
      ]
    },
    {
      "cell_type": "code",
      "execution_count": 7,
      "metadata": {
        "trusted": true
      },
      "outputs": [
        {
          "data": {
            "image/png": "[encoded data removed]",
            "text/plain": [
              "<Figure size 432x288 with 1 Axes>"
            ]
          },
          "metadata": {
            "needs_background": "light"
          },
          "output_type": "display_data"
        }
      ],
      "source": [
        "square(0,0,120,120)\n",
        "square(40,40,80,80)\n",
        "turtle.line((0,120),(60,150))\n",
        "turtle.line((60,150),(120,120))\n",
        "turtle.done()"
      ]
    },
    {
      "cell_type": "markdown",
      "metadata": {},
      "source": [
        "## Упражнение\n",
        "\n",
        "Как всегда, мы хотели бы попросить вас сделать небольшую домашнюю работу, прежде чем перейти к следующему блоку. Вы, вероятно, знаете из уроков математики, что такое квадратное уравнение. Это уравнение следующего вида:едующего вида:\n",
        "$$\n",
        "\n",
        "aЭто уравнение может иметь два корня, которые рассчитываются по формуле: по формуле:\n",
        "$$\n",
        "x_{1,2} = \\frac{-b\\pm\\sqrtгде2a}\n",
        "$$\n",
        "где\n",
        "$$\n",
        "D=b^Если4ac\n",
        "$$\n",
        "\n",
        "у уравнения нет корнейikЕслиedia0.orдва корня одинаковы (что следует из формулы)Пробовать:\n",
        "* Определить функцию для решения квадратного уравнения. Чтобы вычислить квадратный корень, используйте функцию `math.sqrt`, как показано ниже\n",
        "* Используйте его, чтобы решить уравнение с $ a = 1, b = 2, c = -3 $. У него должно быть два корня.\n",
        "* Посмотрите, что произойдет, если вы попытаетесь решить уравнение, которое не имеет корней, например. $ a = 1, b = 2, c = 3 $.\n",
        "\n",
        "Если вы не знаете или не помните, что такое квадратные уравнения - не беспокойтесь и пропустите это упражнение. Или [загляните в википедию]"
      ]
    },
    {
      "cell_type": "code",
      "execution_count": 13,
      "metadata": {
        "trusted": true
      },
      "outputs": [
        {
          "data": {
            "text/plain": [
              "4.0"
            ]
          },
          "execution_count": 13,
          "metadata": {},
          "output_type": "execute_result"
        }
      ],
      "source": [
        "import math\n",
        "math.sqrt(16)"
      ]
    },
    {
      "cell_type": "code",
      "execution_count": null,
      "metadata": {
        "trusted": true
      },
      "outputs": [],
      "source": [
        "# Write your solution here"
      ]
    }
  ],
  "metadata": {
    "kernelspec": {
      "display_name": "Python 3.7.3 64-bit",
      "language": "python",
      "name": "python37364bit6a29fc4a18164452b4e57b09a0c467e1"
    },
    "language_info": {
      "codemirror_mode": {
        "name": "ipython",
        "version": 3
      },
      "file_extension": ".py",
      "mimetype": "text/x-python",
      "name": "python",
      "nbconvert_exporter": "python",
      "pygments_lexer": "ipython3",
      "version": "3.7.3-final"
    }
  },
  "nbformat": 4,
  "nbformat_minor": 2
}
