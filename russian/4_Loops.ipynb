{
  "cells": [
    {
      "cell_type": "markdown",
      "metadata": {
        "collapsed": true
      },
      "source": [
        "# Введение в программирование на Python\n",
        "\n",
        "# Блок 4: Циклы\n",
        "\n",
        "Наша задача по созданию книги задач с квадратными уравнениями будет полезна, если мы можем сгенерировать много уравнений одного типа, а не только одно. Компьютер очень хорошо повторяет одни и те же вычисления, поэтому очень важно выразить идею повторения чего-либо снова и снова. Эта концепция называется **цикл**.\n",
        "\n",
        "Лучший способ создать цикл - использовать оператор **for**:"
      ]
    },
    {
      "cell_type": "code",
      "execution_count": 2,
      "metadata": {
        "tags": [],
        "trusted": true
      },
      "outputs": [
        {
          "name": "stdout",
          "output_type": "stream",
          "text": [
            "Розы красные\n",
            "Розы зеленые\n",
            "Розы голубые\n"
          ]
        }
      ],
      "source": [
        "for color in [\"красные\",\"зеленые\",\"голубые\"]:\n",
        "    print(\"Розы \"+color)"
      ]
    },
    {
      "cell_type": "markdown",
      "metadata": {},
      "source": [
        "В этом примере у нас есть список цветов (записанный в квадратных скобках `[]`), и **цикл for** повторяет оператор `print` несколько раз, по одному разу для каждого цвета в списке. В блоке кода ниже **  ** переменная `color` принимает значение каждого цвета по очереди.\n",
        "\n",
        "Очень часто мы хотим что-то повторить несколько раз. Чтобы не писать список, мы можем использовать специальную функцию `range (n)`, чтобы указать диапазон от 0 до заданного числа. Например, чтобы напечатать все числа от 1 до 10, мы можем написать:"
      ]
    },
    {
      "cell_type": "code",
      "execution_count": 3,
      "metadata": {
        "tags": [],
        "trusted": true
      },
      "outputs": [
        {
          "name": "stdout",
          "output_type": "stream",
          "text": [
            "1 2 3 4 5 6 7 8 9 10"
          ]
        }
      ],
      "source": [
        "for i in range(10):\n",
        "    print(i+1, end=' ')"
      ]
    },
    {
      "cell_type": "markdown",
      "metadata": {},
      "source": [
        "## Рисование дороги\n",
        "\n",
        "Помните, что ранее мы определили функцию чтобы нарисовать дом? Давайте исследуем наше понятие цикла и нарисуем улицу домов! Но, прежде всего, также упростим нашу функцию рисования квадрата с помощью цикла for:"
      ]
    },
    {
      "cell_type": "code",
      "execution_count": null,
      "metadata": {},
      "outputs": [],
      "source": [
        "# Выполните эту ячейку, если вы запускаете код из Google Colab\n",
        "# Если вы работаете на локальном компьютере, где jturtle уже установлен - пропустите.\n",
        "!pip install jturtle"
      ]
    },
    {
      "cell_type": "code",
      "execution_count": 4,
      "metadata": {
        "trusted": true
      },
      "outputs": [],
      "source": [
        "import jturtle as turtle"
      ]
    },
    {
      "cell_type": "code",
      "execution_count": 5,
      "metadata": {
        "trusted": true
      },
      "outputs": [
        {
          "data": {
            "image/png": "[encoded data removed]",
            "image/svg+xml": [
              "<?xml version=\"1.0\" encoding=\"utf-8\" standalone=\"no\"?>\n",
              "<!DOCTYPE svg PUBLIC \"-//W3C//DTD SVG 1.1//EN\"\n",
              "  \"http://www.w3.org/Graphics/SVG/1.1/DTD/svg11.dtd\">\n",
              "<!-- Created with matplotlib (https://matplotlib.org/) -->\n",
              "<svg height=\"231.84pt\" version=\"1.1\" viewBox=\"0 0 231.84 231.84\" width=\"231.84pt\" xmlns=\"http://www.w3.org/2000/svg\" xmlns:xlink=\"http://www.w3.org/1999/xlink\">\n",
              " <defs>\n",
              "  <style type=\"text/css\">\n",
              "*{stroke-linecap:butt;stroke-linejoin:round;}\n",
              "  </style>\n",
              " </defs>\n",
              " <g id=\"figure_1\">\n",
              "  <g id=\"patch_1\">\n",
              "   <path d=\"M 0 231.84 \n",
              "L 231.84 231.84 \n",
              "L 231.84 0 \n",
              "L 0 0 \n",
              "z\n",
              "\" style=\"fill:none;\"/>\n",
              "  </g>\n",
              "  <g id=\"axes_1\">\n",
              "   <g id=\"line2d_1\">\n",
              "    <path clip-path=\"url(#pfdf90f1ed2)\" d=\"M 25.32 206.52 \n",
              "L 25.32 25.32 \n",
              "\" style=\"fill:none;stroke:#000000;stroke-linecap:square;\"/>\n",
              "   </g>\n",
              "   <g id=\"line2d_2\">\n",
              "    <path clip-path=\"url(#pfdf90f1ed2)\" d=\"M 25.32 25.32 \n",
              "L 206.52 25.32 \n",
              "\" style=\"fill:none;stroke:#000000;stroke-linecap:square;\"/>\n",
              "   </g>\n",
              "   <g id=\"line2d_3\">\n",
              "    <path clip-path=\"url(#pfdf90f1ed2)\" d=\"M 206.52 25.32 \n",
              "L 206.52 206.52 \n",
              "\" style=\"fill:none;stroke:#000000;stroke-linecap:square;\"/>\n",
              "   </g>\n",
              "   <g id=\"line2d_4\">\n",
              "    <path clip-path=\"url(#pfdf90f1ed2)\" d=\"M 206.52 206.52 \n",
              "L 25.32 206.52 \n",
              "\" style=\"fill:none;stroke:#000000;stroke-linecap:square;\"/>\n",
              "   </g>\n",
              "  </g>\n",
              " </g>\n",
              " <defs>\n",
              "  <clipPath id=\"pfdf90f1ed2\">\n",
              "   <rect height=\"217.44\" width=\"217.44\" x=\"7.2\" y=\"7.2\"/>\n",
              "  </clipPath>\n",
              " </defs>\n",
              "</svg>\n"
            ],
            "text/plain": [
              "<Figure size 432x288 with 1 Axes>"
            ]
          },
          "metadata": {
            "needs_background": "light"
          },
          "output_type": "display_data"
        }
      ],
      "source": [
        "def square(x):\n",
        "    for t in range(4):\n",
        "        turtle.forward(x)\n",
        "        turtle.right(90)\n",
        "        \n",
        "square(10)\n",
        "turtle.done()"
      ]
    },
    {
      "cell_type": "markdown",
      "metadata": {},
      "source": [
        "Теперь функция рисования самого дома. Мы добавим еще несколько строк в конец функции, чтобы вернуть черепаху в исходное положение в левом нижнем углу рисунка:"
      ]
    },
    {
      "cell_type": "code",
      "execution_count": 6,
      "metadata": {
        "trusted": true
      },
      "outputs": [
        {
          "data": {
            "image/png": "[encoded data removed]",
            "image/svg+xml": [
              "<?xml version=\"1.0\" encoding=\"utf-8\" standalone=\"no\"?>\n",
              "<!DOCTYPE svg PUBLIC \"-//W3C//DTD SVG 1.1//EN\"\n",
              "  \"http://www.w3.org/Graphics/SVG/1.1/DTD/svg11.dtd\">\n",
              "<!-- Created with matplotlib (https://matplotlib.org/) -->\n",
              "<svg height=\"231.84pt\" version=\"1.1\" viewBox=\"0 0 231.84 231.84\" width=\"231.84pt\" xmlns=\"http://www.w3.org/2000/svg\" xmlns:xlink=\"http://www.w3.org/1999/xlink\">\n",
              " <defs>\n",
              "  <style type=\"text/css\">\n",
              "*{stroke-linecap:butt;stroke-linejoin:round;}\n",
              "  </style>\n",
              " </defs>\n",
              " <g id=\"figure_1\">\n",
              "  <g id=\"patch_1\">\n",
              "   <path d=\"M 0 231.84 \n",
              "L 231.84 231.84 \n",
              "L 231.84 0 \n",
              "L 0 0 \n",
              "z\n",
              "\" style=\"fill:none;\"/>\n",
              "  </g>\n",
              "  <g id=\"axes_1\">\n",
              "   <g id=\"line2d_1\">\n",
              "    <path clip-path=\"url(#p7e099557ec)\" d=\"M 25.32 206.52 \n",
              "L 25.32 109.415213 \n",
              "\" style=\"fill:none;stroke:#000000;stroke-linecap:square;\"/>\n",
              "   </g>\n",
              "   <g id=\"line2d_2\">\n",
              "    <path clip-path=\"url(#p7e099557ec)\" d=\"M 25.32 109.415213 \n",
              "L 122.424787 109.415213 \n",
              "\" style=\"fill:none;stroke:#000000;stroke-linecap:square;\"/>\n",
              "   </g>\n",
              "   <g id=\"line2d_3\">\n",
              "    <path clip-path=\"url(#p7e099557ec)\" d=\"M 122.424787 109.415213 \n",
              "L 122.424787 206.52 \n",
              "\" style=\"fill:none;stroke:#000000;stroke-linecap:square;\"/>\n",
              "   </g>\n",
              "   <g id=\"line2d_4\">\n",
              "    <path clip-path=\"url(#p7e099557ec)\" d=\"M 122.424787 206.52 \n",
              "L 25.32 206.52 \n",
              "\" style=\"fill:none;stroke:#000000;stroke-linecap:square;\"/>\n",
              "   </g>\n",
              "   <g id=\"line2d_5\">\n",
              "    <path clip-path=\"url(#p7e099557ec)\" d=\"M 25.32 206.52 \n",
              "L 25.32 109.415213 \n",
              "\" style=\"fill:none;stroke:#000000;stroke-linecap:square;\"/>\n",
              "   </g>\n",
              "   <g id=\"line2d_6\">\n",
              "    <path clip-path=\"url(#p7e099557ec)\" d=\"M 25.32 109.415213 \n",
              "L 73.872394 25.32 \n",
              "\" style=\"fill:none;stroke:#000000;stroke-linecap:square;\"/>\n",
              "   </g>\n",
              "   <g id=\"line2d_7\">\n",
              "    <path clip-path=\"url(#p7e099557ec)\" d=\"M 73.872394 25.32 \n",
              "L 122.424787 109.415213 \n",
              "\" style=\"fill:none;stroke:#000000;stroke-linecap:square;\"/>\n",
              "   </g>\n",
              "   <g id=\"line2d_8\">\n",
              "    <path clip-path=\"url(#p7e099557ec)\" d=\"M 90.056525 174.151738 \n",
              "L 57.688262 174.151738 \n",
              "\" style=\"fill:none;stroke:#000000;stroke-linecap:square;\"/>\n",
              "   </g>\n",
              "   <g id=\"line2d_9\">\n",
              "    <path clip-path=\"url(#p7e099557ec)\" d=\"M 57.688262 174.151738 \n",
              "L 57.688262 141.783475 \n",
              "\" style=\"fill:none;stroke:#000000;stroke-linecap:square;\"/>\n",
              "   </g>\n",
              "   <g id=\"line2d_10\">\n",
              "    <path clip-path=\"url(#p7e099557ec)\" d=\"M 57.688262 141.783475 \n",
              "L 90.056525 141.783475 \n",
              "\" style=\"fill:none;stroke:#000000;stroke-linecap:square;\"/>\n",
              "   </g>\n",
              "   <g id=\"line2d_11\">\n",
              "    <path clip-path=\"url(#p7e099557ec)\" d=\"M 90.056525 141.783475 \n",
              "L 90.056525 174.151738 \n",
              "\" style=\"fill:none;stroke:#000000;stroke-linecap:square;\"/>\n",
              "   </g>\n",
              "  </g>\n",
              " </g>\n",
              " <defs>\n",
              "  <clipPath id=\"p7e099557ec\">\n",
              "   <rect height=\"217.44\" width=\"217.44\" x=\"7.2\" y=\"7.2\"/>\n",
              "  </clipPath>\n",
              " </defs>\n",
              "</svg>\n"
            ],
            "text/plain": [
              "<Figure size 432x288 with 1 Axes>"
            ]
          },
          "metadata": {
            "needs_background": "light"
          },
          "output_type": "display_data"
        }
      ],
      "source": [
        "def house(size):\n",
        "    square(size)\n",
        "    turtle.forward(size)\n",
        "    turtle.right(30)\n",
        "    turtle.forward(size)\n",
        "    turtle.right(120)\n",
        "    turtle.forward(size)\n",
        "    turtle.right(30)\n",
        "\n",
        "    turtle.penup()\n",
        "    turtle.forward(2*size/3)\n",
        "    turtle.right(90)\n",
        "    turtle.forward(size/3)\n",
        "    turtle.pendown()\n",
        "\n",
        "    square(size/3)\n",
        "    turtle.penup()\n",
        "    turtle.forward(2*size/3)\n",
        "    turtle.left(90)\n",
        "    turtle.forward(size/3)\n",
        "    turtle.left(180)\n",
        "    turtle.pendown()\n",
        "\n",
        "house(10)\n",
        "turtle.done()"
      ]
    },
    {
      "cell_type": "markdown",
      "metadata": {},
      "source": [
        "Чтобы нарисовать 5 домов на улице, нам нужно вызывать функцию `house` 5 раз. Однако, если мы просто сделаем это, все дома будут построены поверх друг друга, и мы их не увидим."
      ]
    },
    {
      "cell_type": "code",
      "execution_count": 7,
      "metadata": {
        "trusted": true
      },
      "outputs": [
        {
          "data": {
            "image/png": "[encoded data removed]",
            "image/svg+xml": [
              "<?xml version=\"1.0\" encoding=\"utf-8\" standalone=\"no\"?>\n",
              "<!DOCTYPE svg PUBLIC \"-//W3C//DTD SVG 1.1//EN\"\n",
              "  \"http://www.w3.org/Graphics/SVG/1.1/DTD/svg11.dtd\">\n",
              "<!-- Created with matplotlib (https://matplotlib.org/) -->\n",
              "<svg height=\"231.84pt\" version=\"1.1\" viewBox=\"0 0 231.84 231.84\" width=\"231.84pt\" xmlns=\"http://www.w3.org/2000/svg\" xmlns:xlink=\"http://www.w3.org/1999/xlink\">\n",
              " <defs>\n",
              "  <style type=\"text/css\">\n",
              "*{stroke-linecap:butt;stroke-linejoin:round;}\n",
              "  </style>\n",
              " </defs>\n",
              " <g id=\"figure_1\">\n",
              "  <g id=\"patch_1\">\n",
              "   <path d=\"M 0 231.84 \n",
              "L 231.84 231.84 \n",
              "L 231.84 0 \n",
              "L 0 0 \n",
              "z\n",
              "\" style=\"fill:none;\"/>\n",
              "  </g>\n",
              "  <g id=\"axes_1\">\n",
              "   <g id=\"line2d_1\">\n",
              "    <path clip-path=\"url(#p141370bab3)\" d=\"M 25.32 206.52 \n",
              "L 25.32 109.415213 \n",
              "\" style=\"fill:none;stroke:#000000;stroke-linecap:square;\"/>\n",
              "   </g>\n",
              "   <g id=\"line2d_2\">\n",
              "    <path clip-path=\"url(#p141370bab3)\" d=\"M 25.32 109.415213 \n",
              "L 122.424787 109.415213 \n",
              "\" style=\"fill:none;stroke:#000000;stroke-linecap:square;\"/>\n",
              "   </g>\n",
              "   <g id=\"line2d_3\">\n",
              "    <path clip-path=\"url(#p141370bab3)\" d=\"M 122.424787 109.415213 \n",
              "L 122.424787 206.52 \n",
              "\" style=\"fill:none;stroke:#000000;stroke-linecap:square;\"/>\n",
              "   </g>\n",
              "   <g id=\"line2d_4\">\n",
              "    <path clip-path=\"url(#p141370bab3)\" d=\"M 122.424787 206.52 \n",
              "L 25.32 206.52 \n",
              "\" style=\"fill:none;stroke:#000000;stroke-linecap:square;\"/>\n",
              "   </g>\n",
              "   <g id=\"line2d_5\">\n",
              "    <path clip-path=\"url(#p141370bab3)\" d=\"M 25.32 206.52 \n",
              "L 25.32 109.415213 \n",
              "\" style=\"fill:none;stroke:#000000;stroke-linecap:square;\"/>\n",
              "   </g>\n",
              "   <g id=\"line2d_6\">\n",
              "    <path clip-path=\"url(#p141370bab3)\" d=\"M 25.32 109.415213 \n",
              "L 73.872394 25.32 \n",
              "\" style=\"fill:none;stroke:#000000;stroke-linecap:square;\"/>\n",
              "   </g>\n",
              "   <g id=\"line2d_7\">\n",
              "    <path clip-path=\"url(#p141370bab3)\" d=\"M 73.872394 25.32 \n",
              "L 122.424787 109.415213 \n",
              "\" style=\"fill:none;stroke:#000000;stroke-linecap:square;\"/>\n",
              "   </g>\n",
              "   <g id=\"line2d_8\">\n",
              "    <path clip-path=\"url(#p141370bab3)\" d=\"M 90.056525 174.151738 \n",
              "L 57.688262 174.151738 \n",
              "\" style=\"fill:none;stroke:#000000;stroke-linecap:square;\"/>\n",
              "   </g>\n",
              "   <g id=\"line2d_9\">\n",
              "    <path clip-path=\"url(#p141370bab3)\" d=\"M 57.688262 174.151738 \n",
              "L 57.688262 141.783475 \n",
              "\" style=\"fill:none;stroke:#000000;stroke-linecap:square;\"/>\n",
              "   </g>\n",
              "   <g id=\"line2d_10\">\n",
              "    <path clip-path=\"url(#p141370bab3)\" d=\"M 57.688262 141.783475 \n",
              "L 90.056525 141.783475 \n",
              "\" style=\"fill:none;stroke:#000000;stroke-linecap:square;\"/>\n",
              "   </g>\n",
              "   <g id=\"line2d_11\">\n",
              "    <path clip-path=\"url(#p141370bab3)\" d=\"M 90.056525 141.783475 \n",
              "L 90.056525 174.151738 \n",
              "\" style=\"fill:none;stroke:#000000;stroke-linecap:square;\"/>\n",
              "   </g>\n",
              "   <g id=\"line2d_12\">\n",
              "    <path clip-path=\"url(#p141370bab3)\" d=\"M 25.32 206.52 \n",
              "L 25.32 109.415213 \n",
              "\" style=\"fill:none;stroke:#000000;stroke-linecap:square;\"/>\n",
              "   </g>\n",
              "   <g id=\"line2d_13\">\n",
              "    <path clip-path=\"url(#p141370bab3)\" d=\"M 25.32 109.415213 \n",
              "L 122.424787 109.415213 \n",
              "\" style=\"fill:none;stroke:#000000;stroke-linecap:square;\"/>\n",
              "   </g>\n",
              "   <g id=\"line2d_14\">\n",
              "    <path clip-path=\"url(#p141370bab3)\" d=\"M 122.424787 109.415213 \n",
              "L 122.424787 206.52 \n",
              "\" style=\"fill:none;stroke:#000000;stroke-linecap:square;\"/>\n",
              "   </g>\n",
              "   <g id=\"line2d_15\">\n",
              "    <path clip-path=\"url(#p141370bab3)\" d=\"M 122.424787 206.52 \n",
              "L 25.32 206.52 \n",
              "\" style=\"fill:none;stroke:#000000;stroke-linecap:square;\"/>\n",
              "   </g>\n",
              "   <g id=\"line2d_16\">\n",
              "    <path clip-path=\"url(#p141370bab3)\" d=\"M 25.32 206.52 \n",
              "L 25.32 109.415213 \n",
              "\" style=\"fill:none;stroke:#000000;stroke-linecap:square;\"/>\n",
              "   </g>\n",
              "   <g id=\"line2d_17\">\n",
              "    <path clip-path=\"url(#p141370bab3)\" d=\"M 25.32 109.415213 \n",
              "L 73.872394 25.32 \n",
              "\" style=\"fill:none;stroke:#000000;stroke-linecap:square;\"/>\n",
              "   </g>\n",
              "   <g id=\"line2d_18\">\n",
              "    <path clip-path=\"url(#p141370bab3)\" d=\"M 73.872394 25.32 \n",
              "L 122.424787 109.415213 \n",
              "\" style=\"fill:none;stroke:#000000;stroke-linecap:square;\"/>\n",
              "   </g>\n",
              "   <g id=\"line2d_19\">\n",
              "    <path clip-path=\"url(#p141370bab3)\" d=\"M 90.056525 174.151738 \n",
              "L 57.688262 174.151738 \n",
              "\" style=\"fill:none;stroke:#000000;stroke-linecap:square;\"/>\n",
              "   </g>\n",
              "   <g id=\"line2d_20\">\n",
              "    <path clip-path=\"url(#p141370bab3)\" d=\"M 57.688262 174.151738 \n",
              "L 57.688262 141.783475 \n",
              "\" style=\"fill:none;stroke:#000000;stroke-linecap:square;\"/>\n",
              "   </g>\n",
              "   <g id=\"line2d_21\">\n",
              "    <path clip-path=\"url(#p141370bab3)\" d=\"M 57.688262 141.783475 \n",
              "L 90.056525 141.783475 \n",
              "\" style=\"fill:none;stroke:#000000;stroke-linecap:square;\"/>\n",
              "   </g>\n",
              "   <g id=\"line2d_22\">\n",
              "    <path clip-path=\"url(#p141370bab3)\" d=\"M 90.056525 141.783475 \n",
              "L 90.056525 174.151738 \n",
              "\" style=\"fill:none;stroke:#000000;stroke-linecap:square;\"/>\n",
              "   </g>\n",
              "   <g id=\"line2d_23\">\n",
              "    <path clip-path=\"url(#p141370bab3)\" d=\"M 25.32 206.52 \n",
              "L 25.32 109.415213 \n",
              "\" style=\"fill:none;stroke:#000000;stroke-linecap:square;\"/>\n",
              "   </g>\n",
              "   <g id=\"line2d_24\">\n",
              "    <path clip-path=\"url(#p141370bab3)\" d=\"M 25.32 109.415213 \n",
              "L 122.424787 109.415213 \n",
              "\" style=\"fill:none;stroke:#000000;stroke-linecap:square;\"/>\n",
              "   </g>\n",
              "   <g id=\"line2d_25\">\n",
              "    <path clip-path=\"url(#p141370bab3)\" d=\"M 122.424787 109.415213 \n",
              "L 122.424787 206.52 \n",
              "\" style=\"fill:none;stroke:#000000;stroke-linecap:square;\"/>\n",
              "   </g>\n",
              "   <g id=\"line2d_26\">\n",
              "    <path clip-path=\"url(#p141370bab3)\" d=\"M 122.424787 206.52 \n",
              "L 25.32 206.52 \n",
              "\" style=\"fill:none;stroke:#000000;stroke-linecap:square;\"/>\n",
              "   </g>\n",
              "   <g id=\"line2d_27\">\n",
              "    <path clip-path=\"url(#p141370bab3)\" d=\"M 25.32 206.52 \n",
              "L 25.32 109.415213 \n",
              "\" style=\"fill:none;stroke:#000000;stroke-linecap:square;\"/>\n",
              "   </g>\n",
              "   <g id=\"line2d_28\">\n",
              "    <path clip-path=\"url(#p141370bab3)\" d=\"M 25.32 109.415213 \n",
              "L 73.872394 25.32 \n",
              "\" style=\"fill:none;stroke:#000000;stroke-linecap:square;\"/>\n",
              "   </g>\n",
              "   <g id=\"line2d_29\">\n",
              "    <path clip-path=\"url(#p141370bab3)\" d=\"M 73.872394 25.32 \n",
              "L 122.424787 109.415213 \n",
              "\" style=\"fill:none;stroke:#000000;stroke-linecap:square;\"/>\n",
              "   </g>\n",
              "   <g id=\"line2d_30\">\n",
              "    <path clip-path=\"url(#p141370bab3)\" d=\"M 90.056525 174.151738 \n",
              "L 57.688262 174.151738 \n",
              "\" style=\"fill:none;stroke:#000000;stroke-linecap:square;\"/>\n",
              "   </g>\n",
              "   <g id=\"line2d_31\">\n",
              "    <path clip-path=\"url(#p141370bab3)\" d=\"M 57.688262 174.151738 \n",
              "L 57.688262 141.783475 \n",
              "\" style=\"fill:none;stroke:#000000;stroke-linecap:square;\"/>\n",
              "   </g>\n",
              "   <g id=\"line2d_32\">\n",
              "    <path clip-path=\"url(#p141370bab3)\" d=\"M 57.688262 141.783475 \n",
              "L 90.056525 141.783475 \n",
              "\" style=\"fill:none;stroke:#000000;stroke-linecap:square;\"/>\n",
              "   </g>\n",
              "   <g id=\"line2d_33\">\n",
              "    <path clip-path=\"url(#p141370bab3)\" d=\"M 90.056525 141.783475 \n",
              "L 90.056525 174.151738 \n",
              "\" style=\"fill:none;stroke:#000000;stroke-linecap:square;\"/>\n",
              "   </g>\n",
              "   <g id=\"line2d_34\">\n",
              "    <path clip-path=\"url(#p141370bab3)\" d=\"M 25.32 206.52 \n",
              "L 25.32 109.415213 \n",
              "\" style=\"fill:none;stroke:#000000;stroke-linecap:square;\"/>\n",
              "   </g>\n",
              "   <g id=\"line2d_35\">\n",
              "    <path clip-path=\"url(#p141370bab3)\" d=\"M 25.32 109.415213 \n",
              "L 122.424787 109.415213 \n",
              "\" style=\"fill:none;stroke:#000000;stroke-linecap:square;\"/>\n",
              "   </g>\n",
              "   <g id=\"line2d_36\">\n",
              "    <path clip-path=\"url(#p141370bab3)\" d=\"M 122.424787 109.415213 \n",
              "L 122.424787 206.52 \n",
              "\" style=\"fill:none;stroke:#000000;stroke-linecap:square;\"/>\n",
              "   </g>\n",
              "   <g id=\"line2d_37\">\n",
              "    <path clip-path=\"url(#p141370bab3)\" d=\"M 122.424787 206.52 \n",
              "L 25.32 206.52 \n",
              "\" style=\"fill:none;stroke:#000000;stroke-linecap:square;\"/>\n",
              "   </g>\n",
              "   <g id=\"line2d_38\">\n",
              "    <path clip-path=\"url(#p141370bab3)\" d=\"M 25.32 206.52 \n",
              "L 25.32 109.415213 \n",
              "\" style=\"fill:none;stroke:#000000;stroke-linecap:square;\"/>\n",
              "   </g>\n",
              "   <g id=\"line2d_39\">\n",
              "    <path clip-path=\"url(#p141370bab3)\" d=\"M 25.32 109.415213 \n",
              "L 73.872394 25.32 \n",
              "\" style=\"fill:none;stroke:#000000;stroke-linecap:square;\"/>\n",
              "   </g>\n",
              "   <g id=\"line2d_40\">\n",
              "    <path clip-path=\"url(#p141370bab3)\" d=\"M 73.872394 25.32 \n",
              "L 122.424787 109.415213 \n",
              "\" style=\"fill:none;stroke:#000000;stroke-linecap:square;\"/>\n",
              "   </g>\n",
              "   <g id=\"line2d_41\">\n",
              "    <path clip-path=\"url(#p141370bab3)\" d=\"M 90.056525 174.151738 \n",
              "L 57.688262 174.151738 \n",
              "\" style=\"fill:none;stroke:#000000;stroke-linecap:square;\"/>\n",
              "   </g>\n",
              "   <g id=\"line2d_42\">\n",
              "    <path clip-path=\"url(#p141370bab3)\" d=\"M 57.688262 174.151738 \n",
              "L 57.688262 141.783475 \n",
              "\" style=\"fill:none;stroke:#000000;stroke-linecap:square;\"/>\n",
              "   </g>\n",
              "   <g id=\"line2d_43\">\n",
              "    <path clip-path=\"url(#p141370bab3)\" d=\"M 57.688262 141.783475 \n",
              "L 90.056525 141.783475 \n",
              "\" style=\"fill:none;stroke:#000000;stroke-linecap:square;\"/>\n",
              "   </g>\n",
              "   <g id=\"line2d_44\">\n",
              "    <path clip-path=\"url(#p141370bab3)\" d=\"M 90.056525 141.783475 \n",
              "L 90.056525 174.151738 \n",
              "\" style=\"fill:none;stroke:#000000;stroke-linecap:square;\"/>\n",
              "   </g>\n",
              "   <g id=\"line2d_45\">\n",
              "    <path clip-path=\"url(#p141370bab3)\" d=\"M 25.32 206.52 \n",
              "L 25.32 109.415213 \n",
              "\" style=\"fill:none;stroke:#000000;stroke-linecap:square;\"/>\n",
              "   </g>\n",
              "   <g id=\"line2d_46\">\n",
              "    <path clip-path=\"url(#p141370bab3)\" d=\"M 25.32 109.415213 \n",
              "L 122.424787 109.415213 \n",
              "\" style=\"fill:none;stroke:#000000;stroke-linecap:square;\"/>\n",
              "   </g>\n",
              "   <g id=\"line2d_47\">\n",
              "    <path clip-path=\"url(#p141370bab3)\" d=\"M 122.424787 109.415213 \n",
              "L 122.424787 206.52 \n",
              "\" style=\"fill:none;stroke:#000000;stroke-linecap:square;\"/>\n",
              "   </g>\n",
              "   <g id=\"line2d_48\">\n",
              "    <path clip-path=\"url(#p141370bab3)\" d=\"M 122.424787 206.52 \n",
              "L 25.32 206.52 \n",
              "\" style=\"fill:none;stroke:#000000;stroke-linecap:square;\"/>\n",
              "   </g>\n",
              "   <g id=\"line2d_49\">\n",
              "    <path clip-path=\"url(#p141370bab3)\" d=\"M 25.32 206.52 \n",
              "L 25.32 109.415213 \n",
              "\" style=\"fill:none;stroke:#000000;stroke-linecap:square;\"/>\n",
              "   </g>\n",
              "   <g id=\"line2d_50\">\n",
              "    <path clip-path=\"url(#p141370bab3)\" d=\"M 25.32 109.415213 \n",
              "L 73.872394 25.32 \n",
              "\" style=\"fill:none;stroke:#000000;stroke-linecap:square;\"/>\n",
              "   </g>\n",
              "   <g id=\"line2d_51\">\n",
              "    <path clip-path=\"url(#p141370bab3)\" d=\"M 73.872394 25.32 \n",
              "L 122.424787 109.415213 \n",
              "\" style=\"fill:none;stroke:#000000;stroke-linecap:square;\"/>\n",
              "   </g>\n",
              "   <g id=\"line2d_52\">\n",
              "    <path clip-path=\"url(#p141370bab3)\" d=\"M 90.056525 174.151738 \n",
              "L 57.688262 174.151738 \n",
              "\" style=\"fill:none;stroke:#000000;stroke-linecap:square;\"/>\n",
              "   </g>\n",
              "   <g id=\"line2d_53\">\n",
              "    <path clip-path=\"url(#p141370bab3)\" d=\"M 57.688262 174.151738 \n",
              "L 57.688262 141.783475 \n",
              "\" style=\"fill:none;stroke:#000000;stroke-linecap:square;\"/>\n",
              "   </g>\n",
              "   <g id=\"line2d_54\">\n",
              "    <path clip-path=\"url(#p141370bab3)\" d=\"M 57.688262 141.783475 \n",
              "L 90.056525 141.783475 \n",
              "\" style=\"fill:none;stroke:#000000;stroke-linecap:square;\"/>\n",
              "   </g>\n",
              "   <g id=\"line2d_55\">\n",
              "    <path clip-path=\"url(#p141370bab3)\" d=\"M 90.056525 141.783475 \n",
              "L 90.056525 174.151738 \n",
              "\" style=\"fill:none;stroke:#000000;stroke-linecap:square;\"/>\n",
              "   </g>\n",
              "  </g>\n",
              " </g>\n",
              " <defs>\n",
              "  <clipPath id=\"p141370bab3\">\n",
              "   <rect height=\"217.44\" width=\"217.44\" x=\"7.2\" y=\"7.2\"/>\n",
              "  </clipPath>\n",
              " </defs>\n",
              "</svg>\n"
            ],
            "text/plain": [
              "<Figure size 432x288 with 1 Axes>"
            ]
          },
          "metadata": {
            "needs_background": "light"
          },
          "output_type": "display_data"
        }
      ],
      "source": [
        "for i in range(5):\n",
        "    house(10)\n",
        "turtle.done()"
      ]
    },
    {
      "cell_type": "markdown",
      "metadata": {},
      "source": [
        "Чтобы нарисовать все дома подряд, нам нужно добавить код для перемещения черепахи между домами, то есть каждый раз сдвигаться вправо:"
      ]
    },
    {
      "cell_type": "code",
      "execution_count": 8,
      "metadata": {
        "trusted": true
      },
      "outputs": [
        {
          "data": {
            "image/png": "[encoded data removed]",
            "image/svg+xml": [
              "<?xml version=\"1.0\" encoding=\"utf-8\" standalone=\"no\"?>\n",
              "<!DOCTYPE svg PUBLIC \"-//W3C//DTD SVG 1.1//EN\"\n",
              "  \"http://www.w3.org/Graphics/SVG/1.1/DTD/svg11.dtd\">\n",
              "<!-- Created with matplotlib (https://matplotlib.org/) -->\n",
              "<svg height=\"231.84pt\" version=\"1.1\" viewBox=\"0 0 231.84 231.84\" width=\"231.84pt\" xmlns=\"http://www.w3.org/2000/svg\" xmlns:xlink=\"http://www.w3.org/1999/xlink\">\n",
              " <defs>\n",
              "  <style type=\"text/css\">\n",
              "*{stroke-linecap:butt;stroke-linejoin:round;}\n",
              "  </style>\n",
              " </defs>\n",
              " <g id=\"figure_1\">\n",
              "  <g id=\"patch_1\">\n",
              "   <path d=\"M 0 231.84 \n",
              "L 231.84 231.84 \n",
              "L 231.84 0 \n",
              "L 0 0 \n",
              "z\n",
              "\" style=\"fill:none;\"/>\n",
              "  </g>\n",
              "  <g id=\"axes_1\">\n",
              "   <g id=\"line2d_1\">\n",
              "    <path clip-path=\"url(#pcf0a3b6b1c)\" d=\"M 25.32 206.52 \n",
              "L 25.32 172.964444 \n",
              "\" style=\"fill:none;stroke:#000000;stroke-linecap:square;\"/>\n",
              "   </g>\n",
              "   <g id=\"line2d_2\">\n",
              "    <path clip-path=\"url(#pcf0a3b6b1c)\" d=\"M 25.32 172.964444 \n",
              "L 58.875556 172.964444 \n",
              "\" style=\"fill:none;stroke:#000000;stroke-linecap:square;\"/>\n",
              "   </g>\n",
              "   <g id=\"line2d_3\">\n",
              "    <path clip-path=\"url(#pcf0a3b6b1c)\" d=\"M 58.875556 172.964444 \n",
              "L 58.875556 206.52 \n",
              "\" style=\"fill:none;stroke:#000000;stroke-linecap:square;\"/>\n",
              "   </g>\n",
              "   <g id=\"line2d_4\">\n",
              "    <path clip-path=\"url(#pcf0a3b6b1c)\" d=\"M 58.875556 206.52 \n",
              "L 25.32 206.52 \n",
              "\" style=\"fill:none;stroke:#000000;stroke-linecap:square;\"/>\n",
              "   </g>\n",
              "   <g id=\"line2d_5\">\n",
              "    <path clip-path=\"url(#pcf0a3b6b1c)\" d=\"M 25.32 206.52 \n",
              "L 25.32 172.964444 \n",
              "\" style=\"fill:none;stroke:#000000;stroke-linecap:square;\"/>\n",
              "   </g>\n",
              "   <g id=\"line2d_6\">\n",
              "    <path clip-path=\"url(#pcf0a3b6b1c)\" d=\"M 25.32 172.964444 \n",
              "L 42.097778 143.904481 \n",
              "\" style=\"fill:none;stroke:#000000;stroke-linecap:square;\"/>\n",
              "   </g>\n",
              "   <g id=\"line2d_7\">\n",
              "    <path clip-path=\"url(#pcf0a3b6b1c)\" d=\"M 42.097778 143.904481 \n",
              "L 58.875556 172.964444 \n",
              "\" style=\"fill:none;stroke:#000000;stroke-linecap:square;\"/>\n",
              "   </g>\n",
              "   <g id=\"line2d_8\">\n",
              "    <path clip-path=\"url(#pcf0a3b6b1c)\" d=\"M 47.69037 195.334815 \n",
              "L 36.505185 195.334815 \n",
              "\" style=\"fill:none;stroke:#000000;stroke-linecap:square;\"/>\n",
              "   </g>\n",
              "   <g id=\"line2d_9\">\n",
              "    <path clip-path=\"url(#pcf0a3b6b1c)\" d=\"M 36.505185 195.334815 \n",
              "L 36.505185 184.14963 \n",
              "\" style=\"fill:none;stroke:#000000;stroke-linecap:square;\"/>\n",
              "   </g>\n",
              "   <g id=\"line2d_10\">\n",
              "    <path clip-path=\"url(#pcf0a3b6b1c)\" d=\"M 36.505185 184.14963 \n",
              "L 47.69037 184.14963 \n",
              "\" style=\"fill:none;stroke:#000000;stroke-linecap:square;\"/>\n",
              "   </g>\n",
              "   <g id=\"line2d_11\">\n",
              "    <path clip-path=\"url(#pcf0a3b6b1c)\" d=\"M 47.69037 184.14963 \n",
              "L 47.69037 195.334815 \n",
              "\" style=\"fill:none;stroke:#000000;stroke-linecap:square;\"/>\n",
              "   </g>\n",
              "   <g id=\"line2d_12\">\n",
              "    <path clip-path=\"url(#pcf0a3b6b1c)\" d=\"M 62.231111 206.52 \n",
              "L 62.231111 172.964444 \n",
              "\" style=\"fill:none;stroke:#000000;stroke-linecap:square;\"/>\n",
              "   </g>\n",
              "   <g id=\"line2d_13\">\n",
              "    <path clip-path=\"url(#pcf0a3b6b1c)\" d=\"M 62.231111 172.964444 \n",
              "L 95.786667 172.964444 \n",
              "\" style=\"fill:none;stroke:#000000;stroke-linecap:square;\"/>\n",
              "   </g>\n",
              "   <g id=\"line2d_14\">\n",
              "    <path clip-path=\"url(#pcf0a3b6b1c)\" d=\"M 95.786667 172.964444 \n",
              "L 95.786667 206.52 \n",
              "\" style=\"fill:none;stroke:#000000;stroke-linecap:square;\"/>\n",
              "   </g>\n",
              "   <g id=\"line2d_15\">\n",
              "    <path clip-path=\"url(#pcf0a3b6b1c)\" d=\"M 95.786667 206.52 \n",
              "L 62.231111 206.52 \n",
              "\" style=\"fill:none;stroke:#000000;stroke-linecap:square;\"/>\n",
              "   </g>\n",
              "   <g id=\"line2d_16\">\n",
              "    <path clip-path=\"url(#pcf0a3b6b1c)\" d=\"M 62.231111 206.52 \n",
              "L 62.231111 172.964444 \n",
              "\" style=\"fill:none;stroke:#000000;stroke-linecap:square;\"/>\n",
              "   </g>\n",
              "   <g id=\"line2d_17\">\n",
              "    <path clip-path=\"url(#pcf0a3b6b1c)\" d=\"M 62.231111 172.964444 \n",
              "L 79.008889 143.904481 \n",
              "\" style=\"fill:none;stroke:#000000;stroke-linecap:square;\"/>\n",
              "   </g>\n",
              "   <g id=\"line2d_18\">\n",
              "    <path clip-path=\"url(#pcf0a3b6b1c)\" d=\"M 79.008889 143.904481 \n",
              "L 95.786667 172.964444 \n",
              "\" style=\"fill:none;stroke:#000000;stroke-linecap:square;\"/>\n",
              "   </g>\n",
              "   <g id=\"line2d_19\">\n",
              "    <path clip-path=\"url(#pcf0a3b6b1c)\" d=\"M 84.601481 195.334815 \n",
              "L 73.416296 195.334815 \n",
              "\" style=\"fill:none;stroke:#000000;stroke-linecap:square;\"/>\n",
              "   </g>\n",
              "   <g id=\"line2d_20\">\n",
              "    <path clip-path=\"url(#pcf0a3b6b1c)\" d=\"M 73.416296 195.334815 \n",
              "L 73.416296 184.14963 \n",
              "\" style=\"fill:none;stroke:#000000;stroke-linecap:square;\"/>\n",
              "   </g>\n",
              "   <g id=\"line2d_21\">\n",
              "    <path clip-path=\"url(#pcf0a3b6b1c)\" d=\"M 73.416296 184.14963 \n",
              "L 84.601481 184.14963 \n",
              "\" style=\"fill:none;stroke:#000000;stroke-linecap:square;\"/>\n",
              "   </g>\n",
              "   <g id=\"line2d_22\">\n",
              "    <path clip-path=\"url(#pcf0a3b6b1c)\" d=\"M 84.601481 184.14963 \n",
              "L 84.601481 195.334815 \n",
              "\" style=\"fill:none;stroke:#000000;stroke-linecap:square;\"/>\n",
              "   </g>\n",
              "   <g id=\"line2d_23\">\n",
              "    <path clip-path=\"url(#pcf0a3b6b1c)\" d=\"M 99.142222 206.52 \n",
              "L 99.142222 172.964444 \n",
              "\" style=\"fill:none;stroke:#000000;stroke-linecap:square;\"/>\n",
              "   </g>\n",
              "   <g id=\"line2d_24\">\n",
              "    <path clip-path=\"url(#pcf0a3b6b1c)\" d=\"M 99.142222 172.964444 \n",
              "L 132.697778 172.964444 \n",
              "\" style=\"fill:none;stroke:#000000;stroke-linecap:square;\"/>\n",
              "   </g>\n",
              "   <g id=\"line2d_25\">\n",
              "    <path clip-path=\"url(#pcf0a3b6b1c)\" d=\"M 132.697778 172.964444 \n",
              "L 132.697778 206.52 \n",
              "\" style=\"fill:none;stroke:#000000;stroke-linecap:square;\"/>\n",
              "   </g>\n",
              "   <g id=\"line2d_26\">\n",
              "    <path clip-path=\"url(#pcf0a3b6b1c)\" d=\"M 132.697778 206.52 \n",
              "L 99.142222 206.52 \n",
              "\" style=\"fill:none;stroke:#000000;stroke-linecap:square;\"/>\n",
              "   </g>\n",
              "   <g id=\"line2d_27\">\n",
              "    <path clip-path=\"url(#pcf0a3b6b1c)\" d=\"M 99.142222 206.52 \n",
              "L 99.142222 172.964444 \n",
              "\" style=\"fill:none;stroke:#000000;stroke-linecap:square;\"/>\n",
              "   </g>\n",
              "   <g id=\"line2d_28\">\n",
              "    <path clip-path=\"url(#pcf0a3b6b1c)\" d=\"M 99.142222 172.964444 \n",
              "L 115.92 143.904481 \n",
              "\" style=\"fill:none;stroke:#000000;stroke-linecap:square;\"/>\n",
              "   </g>\n",
              "   <g id=\"line2d_29\">\n",
              "    <path clip-path=\"url(#pcf0a3b6b1c)\" d=\"M 115.92 143.904481 \n",
              "L 132.697778 172.964444 \n",
              "\" style=\"fill:none;stroke:#000000;stroke-linecap:square;\"/>\n",
              "   </g>\n",
              "   <g id=\"line2d_30\">\n",
              "    <path clip-path=\"url(#pcf0a3b6b1c)\" d=\"M 121.512593 195.334815 \n",
              "L 110.327407 195.334815 \n",
              "\" style=\"fill:none;stroke:#000000;stroke-linecap:square;\"/>\n",
              "   </g>\n",
              "   <g id=\"line2d_31\">\n",
              "    <path clip-path=\"url(#pcf0a3b6b1c)\" d=\"M 110.327407 195.334815 \n",
              "L 110.327407 184.14963 \n",
              "\" style=\"fill:none;stroke:#000000;stroke-linecap:square;\"/>\n",
              "   </g>\n",
              "   <g id=\"line2d_32\">\n",
              "    <path clip-path=\"url(#pcf0a3b6b1c)\" d=\"M 110.327407 184.14963 \n",
              "L 121.512593 184.14963 \n",
              "\" style=\"fill:none;stroke:#000000;stroke-linecap:square;\"/>\n",
              "   </g>\n",
              "   <g id=\"line2d_33\">\n",
              "    <path clip-path=\"url(#pcf0a3b6b1c)\" d=\"M 121.512593 184.14963 \n",
              "L 121.512593 195.334815 \n",
              "\" style=\"fill:none;stroke:#000000;stroke-linecap:square;\"/>\n",
              "   </g>\n",
              "   <g id=\"line2d_34\">\n",
              "    <path clip-path=\"url(#pcf0a3b6b1c)\" d=\"M 136.053333 206.52 \n",
              "L 136.053333 172.964444 \n",
              "\" style=\"fill:none;stroke:#000000;stroke-linecap:square;\"/>\n",
              "   </g>\n",
              "   <g id=\"line2d_35\">\n",
              "    <path clip-path=\"url(#pcf0a3b6b1c)\" d=\"M 136.053333 172.964444 \n",
              "L 169.608889 172.964444 \n",
              "\" style=\"fill:none;stroke:#000000;stroke-linecap:square;\"/>\n",
              "   </g>\n",
              "   <g id=\"line2d_36\">\n",
              "    <path clip-path=\"url(#pcf0a3b6b1c)\" d=\"M 169.608889 172.964444 \n",
              "L 169.608889 206.52 \n",
              "\" style=\"fill:none;stroke:#000000;stroke-linecap:square;\"/>\n",
              "   </g>\n",
              "   <g id=\"line2d_37\">\n",
              "    <path clip-path=\"url(#pcf0a3b6b1c)\" d=\"M 169.608889 206.52 \n",
              "L 136.053333 206.52 \n",
              "\" style=\"fill:none;stroke:#000000;stroke-linecap:square;\"/>\n",
              "   </g>\n",
              "   <g id=\"line2d_38\">\n",
              "    <path clip-path=\"url(#pcf0a3b6b1c)\" d=\"M 136.053333 206.52 \n",
              "L 136.053333 172.964444 \n",
              "\" style=\"fill:none;stroke:#000000;stroke-linecap:square;\"/>\n",
              "   </g>\n",
              "   <g id=\"line2d_39\">\n",
              "    <path clip-path=\"url(#pcf0a3b6b1c)\" d=\"M 136.053333 172.964444 \n",
              "L 152.831111 143.904481 \n",
              "\" style=\"fill:none;stroke:#000000;stroke-linecap:square;\"/>\n",
              "   </g>\n",
              "   <g id=\"line2d_40\">\n",
              "    <path clip-path=\"url(#pcf0a3b6b1c)\" d=\"M 152.831111 143.904481 \n",
              "L 169.608889 172.964444 \n",
              "\" style=\"fill:none;stroke:#000000;stroke-linecap:square;\"/>\n",
              "   </g>\n",
              "   <g id=\"line2d_41\">\n",
              "    <path clip-path=\"url(#pcf0a3b6b1c)\" d=\"M 158.423704 195.334815 \n",
              "L 147.238519 195.334815 \n",
              "\" style=\"fill:none;stroke:#000000;stroke-linecap:square;\"/>\n",
              "   </g>\n",
              "   <g id=\"line2d_42\">\n",
              "    <path clip-path=\"url(#pcf0a3b6b1c)\" d=\"M 147.238519 195.334815 \n",
              "L 147.238519 184.14963 \n",
              "\" style=\"fill:none;stroke:#000000;stroke-linecap:square;\"/>\n",
              "   </g>\n",
              "   <g id=\"line2d_43\">\n",
              "    <path clip-path=\"url(#pcf0a3b6b1c)\" d=\"M 147.238519 184.14963 \n",
              "L 158.423704 184.14963 \n",
              "\" style=\"fill:none;stroke:#000000;stroke-linecap:square;\"/>\n",
              "   </g>\n",
              "   <g id=\"line2d_44\">\n",
              "    <path clip-path=\"url(#pcf0a3b6b1c)\" d=\"M 158.423704 184.14963 \n",
              "L 158.423704 195.334815 \n",
              "\" style=\"fill:none;stroke:#000000;stroke-linecap:square;\"/>\n",
              "   </g>\n",
              "   <g id=\"line2d_45\">\n",
              "    <path clip-path=\"url(#pcf0a3b6b1c)\" d=\"M 172.964444 206.52 \n",
              "L 172.964444 172.964444 \n",
              "\" style=\"fill:none;stroke:#000000;stroke-linecap:square;\"/>\n",
              "   </g>\n",
              "   <g id=\"line2d_46\">\n",
              "    <path clip-path=\"url(#pcf0a3b6b1c)\" d=\"M 172.964444 172.964444 \n",
              "L 206.52 172.964444 \n",
              "\" style=\"fill:none;stroke:#000000;stroke-linecap:square;\"/>\n",
              "   </g>\n",
              "   <g id=\"line2d_47\">\n",
              "    <path clip-path=\"url(#pcf0a3b6b1c)\" d=\"M 206.52 172.964444 \n",
              "L 206.52 206.52 \n",
              "\" style=\"fill:none;stroke:#000000;stroke-linecap:square;\"/>\n",
              "   </g>\n",
              "   <g id=\"line2d_48\">\n",
              "    <path clip-path=\"url(#pcf0a3b6b1c)\" d=\"M 206.52 206.52 \n",
              "L 172.964444 206.52 \n",
              "\" style=\"fill:none;stroke:#000000;stroke-linecap:square;\"/>\n",
              "   </g>\n",
              "   <g id=\"line2d_49\">\n",
              "    <path clip-path=\"url(#pcf0a3b6b1c)\" d=\"M 172.964444 206.52 \n",
              "L 172.964444 172.964444 \n",
              "\" style=\"fill:none;stroke:#000000;stroke-linecap:square;\"/>\n",
              "   </g>\n",
              "   <g id=\"line2d_50\">\n",
              "    <path clip-path=\"url(#pcf0a3b6b1c)\" d=\"M 172.964444 172.964444 \n",
              "L 189.742222 143.904481 \n",
              "\" style=\"fill:none;stroke:#000000;stroke-linecap:square;\"/>\n",
              "   </g>\n",
              "   <g id=\"line2d_51\">\n",
              "    <path clip-path=\"url(#pcf0a3b6b1c)\" d=\"M 189.742222 143.904481 \n",
              "L 206.52 172.964444 \n",
              "\" style=\"fill:none;stroke:#000000;stroke-linecap:square;\"/>\n",
              "   </g>\n",
              "   <g id=\"line2d_52\">\n",
              "    <path clip-path=\"url(#pcf0a3b6b1c)\" d=\"M 195.334815 195.334815 \n",
              "L 184.14963 195.334815 \n",
              "\" style=\"fill:none;stroke:#000000;stroke-linecap:square;\"/>\n",
              "   </g>\n",
              "   <g id=\"line2d_53\">\n",
              "    <path clip-path=\"url(#pcf0a3b6b1c)\" d=\"M 184.14963 195.334815 \n",
              "L 184.14963 184.14963 \n",
              "\" style=\"fill:none;stroke:#000000;stroke-linecap:square;\"/>\n",
              "   </g>\n",
              "   <g id=\"line2d_54\">\n",
              "    <path clip-path=\"url(#pcf0a3b6b1c)\" d=\"M 184.14963 184.14963 \n",
              "L 195.334815 184.14963 \n",
              "\" style=\"fill:none;stroke:#000000;stroke-linecap:square;\"/>\n",
              "   </g>\n",
              "   <g id=\"line2d_55\">\n",
              "    <path clip-path=\"url(#pcf0a3b6b1c)\" d=\"M 195.334815 184.14963 \n",
              "L 195.334815 195.334815 \n",
              "\" style=\"fill:none;stroke:#000000;stroke-linecap:square;\"/>\n",
              "   </g>\n",
              "  </g>\n",
              " </g>\n",
              " <defs>\n",
              "  <clipPath id=\"pcf0a3b6b1c\">\n",
              "   <rect height=\"217.44\" width=\"217.44\" x=\"7.2\" y=\"7.2\"/>\n",
              "  </clipPath>\n",
              " </defs>\n",
              "</svg>\n"
            ],
            "text/plain": [
              "<Figure size 432x288 with 1 Axes>"
            ]
          },
          "metadata": {
            "needs_background": "light"
          },
          "output_type": "display_data"
        }
      ],
      "source": [
        "for i in range(5):\n",
        "    house(10)\n",
        "    turtle.penup()\n",
        "    turtle.right(90)\n",
        "    turtle.forward(11)\n",
        "    turtle.left(90)\n",
        "    turtle.pendown()\n",
        "turtle.done()"
      ]
    },
    {
      "cell_type": "markdown",
      "metadata": {},
      "source": [
        "Поздравляем, теперь вы освоили цикл **for**! Однако, давайте немного потренируемся."
      ]
    },
    {
      "cell_type": "markdown",
      "metadata": {},
      "source": [
        "## Создание книги задач\n",
        "\n",
        "Теперь, мы можем легко создать книгу со многими различными задачами. Чтобы не дублировать функции, определенные в предыдущих модулях, мы собрали их во внешний модуль и просто напишем здесь выражение `import`, чтобы использовать их. Если у вас есть сомнения в том, как определяется функция, вы можете заглянуть в предыдущий модуль или в файл [pycourse.py] (pycourse.py), содержащий все определения."
      ]
    },
    {
      "cell_type": "code",
      "execution_count": 9,
      "metadata": {
        "trusted": true
      },
      "outputs": [],
      "source": [
        "import random,math\n",
        "from IPython.display import display, Math\n",
        "\n",
        "from pycourse import coef, equation, solve\n",
        "\n",
        "def random_equation():\n",
        "    a = random.randint(1,5)*random.choice([-1,1])\n",
        "    b = random.randint(-10,10)\n",
        "    c = random.randint(-20,20)\n",
        "    return (a,b,c)\n",
        "\n",
        "def print_random_equation():\n",
        "    a,b,c = random_equation()\n",
        "    if solve(a,b,c) == None:\n",
        "        display(Math(equation(a,b,c)+\"\\quad (\\mbox{no solutions})\"))\n",
        "    else:\n",
        "        x1,x2 = solve(a,b,c)\n",
        "        display(Math(equation(a,b,c)+f\"\\quad (x_1={x1:.2f},x_2={x2:.2f})\"))"
      ]
    },
    {
      "cell_type": "markdown",
      "metadata": {
        "trusted": true
      },
      "source": [
        "Этот код в основном дублирует код из последнего модуля, но здесь есть и несколько новых вещей. Прежде всего, есть странные вещи, которые мы печатаем, такие как `\\quad` и` \\mbox`. Не беспокойтесь о них, они используются для того, чтобы уравнения выглядели немного лучше. Они не являются частью языка Python, а используются в записных книжках Azure для отображения математических формул.\n",
        "\n",
        "Вторая новая особенность - ** интерполяция строк ** и ** форматирование **. Часто возникает ситуация, когда нам нужно вывести значение некоторой переменной `x` внутри строки, например:"
      ]
    },
    {
      "cell_type": "code",
      "execution_count": 10,
      "metadata": {
        "tags": [],
        "trusted": true
      },
      "outputs": [
        {
          "name": "stdout",
          "output_type": "stream",
          "text": [
            "У меня осталось  333.3333333333333 рублей\n"
          ]
        }
      ],
      "source": [
        "x = 1000/3 #Предположим, я потратил 2/3 карманных денег в размере 1000 рублей.\n",
        "print('У меня осталось ',x,'рублей')"
      ]
    },
    {
      "cell_type": "markdown",
      "metadata": {},
      "source": [
        "Если по какой-то причине вы хотите сохранить сообщение целиком в переменной, чтобы напечатать его позже, нужно будет выполнить ручное преобразование, например так:"
      ]
    },
    {
      "cell_type": "code",
      "execution_count": 11,
      "metadata": {
        "tags": [],
        "trusted": true
      },
      "outputs": [
        {
          "name": "stdout",
          "output_type": "stream",
          "text": [
            "У меня осталось 333.3333333333333 рублей\n"
          ]
        }
      ],
      "source": [
        "message = 'У меня осталось '+str(x)+' рублей'\n",
        "print(message)"
      ]
    },
    {
      "cell_type": "markdown",
      "metadata": {},
      "source": [
        "Тот же эффект может быть достигнут с использованием специального синтаксиса Python для интерполяции строк:"
      ]
    },
    {
      "cell_type": "code",
      "execution_count": 12,
      "metadata": {
        "tags": [],
        "trusted": true
      },
      "outputs": [
        {
          "name": "stdout",
          "output_type": "stream",
          "text": [
            "У меня осталось 333.3333333333333 рублей\n"
          ]
        }
      ],
      "source": [
        "message = f'У меня осталось {x} рублей'\n",
        "print(message)"
      ]
    },
    {
      "cell_type": "markdown",
      "metadata": {},
      "source": [
        "Строковая интерполяция начинается с `f'`, и любая переменная или выражение, которые появляются внутри фигурных скобок` {..} `, будут заменены его значением.\n",
        "\n",
        "Еще одна вещь, которую можно использовать с интерполяцией - это ** форматирование **. Возможно, вы заметили, что в нашем случае число «3.333333» выглядит не очень хорошо. Было бы лучше округлить его, скажем, до 2 десятичных знаков. Хотя мы можем достичь этого с помощью функции `math.round`, мы также можем указать ** формат ** для печати числа, то есть сколько десятичных разрядов мы хотим:"
      ]
    },
    {
      "cell_type": "code",
      "execution_count": 13,
      "metadata": {
        "tags": [],
        "trusted": true
      },
      "outputs": [
        {
          "name": "stdout",
          "output_type": "stream",
          "text": [
            "У меня осталось 333.33 рублей\n"
          ]
        }
      ],
      "source": [
        "print(f'У меня осталось {x:0.2f} рублей')"
      ]
    },
    {
      "cell_type": "markdown",
      "metadata": {},
      "source": [
        "Теперь, когда мы объяснили все интересные места в коде, давайте использовать функцию `print_random_equation` для генерации числовых или случайных уравнений!"
      ]
    },
    {
      "cell_type": "code",
      "execution_count": 14,
      "metadata": {
        "trusted": true
      },
      "outputs": [
        {
          "data": {
            "text/latex": [
              "$\\displaystyle -x^2+9x-12\\quad (x_1=1.63,x_2=7.37)$"
            ],
            "text/plain": [
              "<IPython.core.display.Math object>"
            ]
          },
          "metadata": {},
          "output_type": "display_data"
        },
        {
          "data": {
            "text/latex": [
              "$\\displaystyle -5x^2-x+12\\quad (x_1=-1.65,x_2=1.45)$"
            ],
            "text/plain": [
              "<IPython.core.display.Math object>"
            ]
          },
          "metadata": {},
          "output_type": "display_data"
        },
        {
          "data": {
            "text/latex": [
              "$\\displaystyle -2x^2+10x-5\\quad (x_1=0.56,x_2=4.44)$"
            ],
            "text/plain": [
              "<IPython.core.display.Math object>"
            ]
          },
          "metadata": {},
          "output_type": "display_data"
        },
        {
          "data": {
            "text/latex": [
              "$\\displaystyle -4x^2-6x+3\\quad (x_1=-1.90,x_2=0.40)$"
            ],
            "text/plain": [
              "<IPython.core.display.Math object>"
            ]
          },
          "metadata": {},
          "output_type": "display_data"
        },
        {
          "data": {
            "text/latex": [
              "$\\displaystyle 5x^2-10x\\quad (x_1=2.00,x_2=0.00)$"
            ],
            "text/plain": [
              "<IPython.core.display.Math object>"
            ]
          },
          "metadata": {},
          "output_type": "display_data"
        },
        {
          "data": {
            "text/latex": [
              "$\\displaystyle x^2-5x+5\\quad (x_1=3.62,x_2=1.38)$"
            ],
            "text/plain": [
              "<IPython.core.display.Math object>"
            ]
          },
          "metadata": {},
          "output_type": "display_data"
        },
        {
          "data": {
            "text/latex": [
              "$\\displaystyle -x^2-x+14\\quad (x_1=-4.27,x_2=3.27)$"
            ],
            "text/plain": [
              "<IPython.core.display.Math object>"
            ]
          },
          "metadata": {},
          "output_type": "display_data"
        },
        {
          "data": {
            "text/latex": [
              "$\\displaystyle -x^2-9x-4\\quad (x_1=-8.53,x_2=-0.47)$"
            ],
            "text/plain": [
              "<IPython.core.display.Math object>"
            ]
          },
          "metadata": {},
          "output_type": "display_data"
        },
        {
          "data": {
            "text/latex": [
              "$\\displaystyle -5x^2-5x+10\\quad (x_1=-2.00,x_2=1.00)$"
            ],
            "text/plain": [
              "<IPython.core.display.Math object>"
            ]
          },
          "metadata": {},
          "output_type": "display_data"
        },
        {
          "data": {
            "text/latex": [
              "$\\displaystyle -x^2+x-10\\quad (\\mbox{no solutions})$"
            ],
            "text/plain": [
              "<IPython.core.display.Math object>"
            ]
          },
          "metadata": {},
          "output_type": "display_data"
        }
      ],
      "source": [
        "for i in range(10):\n",
        "    print_random_equation()"
      ]
    },
    {
      "cell_type": "markdown",
      "metadata": {
        "trusted": true
      },
      "source": [
        "На этом наш модуль завершен. Пожалуйста, выполните несколько упражнений, прежде чем перейти к следующему!"
      ]
    },
    {
      "cell_type": "markdown",
      "metadata": {},
      "source": [
        "## Упражнение: Факториал\n",
        "\n",
        "Факториал числа $n$ (обозначается $n!$) - это число, которое получается умножением всех натуральных чисел с $1$ до $n$, т.е.\n",
        "$$n! = 1\\cdot2\\cdot3\\cdot\\dots\\cdot n$$\n",
        "Задание:\n",
        "1. Напишите функцию `fact`, которая будет вычислять факториал любого числа `n`\n",
        "2. Распечатайте таблицу факторалов для $n$ от 1 до 7"
      ]
    },
    {
      "cell_type": "code",
      "execution_count": null,
      "metadata": {
        "trusted": true
      },
      "outputs": [],
      "source": []
    }
  ],
  "metadata": {
    "kernelspec": {
      "display_name": "Python 3.7.3 64-bit",
      "language": "python",
      "name": "python37364bit6a29fc4a18164452b4e57b09a0c467e1"
    },
    "language_info": {
      "codemirror_mode": {
        "name": "ipython",
        "version": 3
      },
      "file_extension": ".py",
      "mimetype": "text/x-python",
      "name": "python",
      "nbconvert_exporter": "python",
      "pygments_lexer": "ipython3",
      "version": "3.7.3-final"
    }
  },
  "nbformat": 4,
  "nbformat_minor": 2
}
